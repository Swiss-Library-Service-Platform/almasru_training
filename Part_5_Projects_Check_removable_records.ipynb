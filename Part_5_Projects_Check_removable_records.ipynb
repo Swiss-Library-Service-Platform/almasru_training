{
 "cells": [
  {
   "cell_type": "markdown",
   "id": "cbc0c158",
   "metadata": {},
   "source": [
    "# Part 5: projects - Check removable records\n",
    "\n",
    "### Context\n",
    "Deleting bibliographic records following weeding is a complex and dangerous task. In a library network, records used by other libraries must not be deleted. This is fairly easy to check for records that include an inventory, but much less so for analytical records or superordinate records. In such cases, cleaning must be abandoned as soon as at least one record in the chain of linked records has an inventory.\n",
    "\n",
    "\n",
    "### To do\n",
    "To perform this check, Almasru has methods already implemented at both the IZ and NZ levels. For this project, the check only needs to be performed at the NZ level.\n",
    "\n",
    "Use the `check_removable_records` method and the list `mms_ids_to_check`\n",
    "\n",
    "### Result\n",
    "The result is a pandas `DataFrame`, a few of them should be removable.\n",
    "\n",
    "### Difficulty level\n",
    "Easy"
   ]
  },
  {
   "cell_type": "code",
   "execution_count": 25,
   "id": "e4cab393",
   "metadata": {},
   "outputs": [],
   "source": [
    "# Import libraries\n",
    "from almasru.client import SruClient, SruRecord, IzSruRecord, SruRequest\n",
    "from almasru.utils import check_removable_records, analyse_records\n",
    "from almasru import dedup\n",
    "from almasru.briefrecord import BriefRecFactory, BriefRec\n",
    "from almasru import config_log\n",
    "\n",
    "# Config logs\n",
    "config_log()\n",
    "\n",
    "mms_ids_to_check = [\n",
    "    '991171228773105501', '991153648929705501', '991095338679705501',\n",
    "    '991108597099705501', '991107511699705501', '991132863209705501',\n",
    "    '991152338469705501', '991171357508305501', '991126902329705501',\n",
    "    '991171337525005501', '991094843849705501', '991093934809705501',\n",
    "    '991154177219705501', '991156446029705501', '991170675750105501',\n",
    "    '991006488319705501', '991153029939705501', '991149212459705501',\n",
    "    '991170647161305501', '991171866808105501', '991055945739705501',\n",
    "]"
   ]
  },
  {
   "cell_type": "code",
   "execution_count": null,
   "id": "d4b4e0cd",
   "metadata": {},
   "outputs": [],
   "source": []
  }
 ],
 "metadata": {
  "kernelspec": {
   "display_name": "Python 3 (ipykernel)",
   "language": "python",
   "name": "python3"
  },
  "language_info": {
   "codemirror_mode": {
    "name": "ipython",
    "version": 3
   },
   "file_extension": ".py",
   "mimetype": "text/x-python",
   "name": "python",
   "nbconvert_exporter": "python",
   "pygments_lexer": "ipython3",
   "version": "3.9.7"
  }
 },
 "nbformat": 4,
 "nbformat_minor": 5
}

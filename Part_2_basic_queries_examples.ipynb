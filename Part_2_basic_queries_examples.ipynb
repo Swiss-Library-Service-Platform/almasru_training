{
 "cells": [
  {
   "cell_type": "markdown",
   "id": "6a874805",
   "metadata": {},
   "source": [
    "# Part 2: Basic queries - examples\n",
    "\n",
    "### Goals\n",
    "* To make simple requests to SRU\n",
    "* To display content of a record\n",
    "\n",
    "### How to use it\n",
    "#### SRU servers\n",
    "* https://swisscovery.slsp.ch/view/sru/41SLSP_NETWORK?version=1.2&operation=explain\n",
    "* https://renouvaud.primo.exlibrisgroup.com/view/sru/41BCULAUSA_NETWORK?version=1.2&operation=explain\n",
    "* https://www.sudoc.abes.fr/cbs/sru/?operation=explain&version=1.1\n",
    "\n",
    "#### Documentation\n",
    "* https://slsp.ch/fr/metadonnees/\n",
    "* https://developers.exlibrisgroup.com/alma/integrations/sru/\n",
    "* https://knowledge.exlibrisgroup.com/Alma/Product_Documentation/Alma_Online_Help_(Francais)/130Int%C3%A9grations_avec_des_syst%C3%A8mes_externes/030Gestion_des_ressources/170Recherche_SRU%2F%2FSRW\n",
    "* https://abes.fr/wp-content/uploads/2023/05/guide-utilisation-service-sru-catalogue-sudoc.pdf"
   ]
  },
  {
   "cell_type": "code",
   "execution_count": null,
   "id": "91a78541",
   "metadata": {},
   "outputs": [],
   "source": [
    "# Build simple request\n",
    "# Idea is to find 2 records with \"Python\" in the title\n",
    "\n",
    "import requests\n",
    "\n",
    "params = {\n",
    "    'version': '1.2',\n",
    "    'operation': 'searchRetrieve',\n",
    "    'query': 'alma.title=Python',\n",
    "    'maximumRecords': '2'\n",
    "}\n",
    "\n",
    "url = 'https://swisscovery.ch/view/sru/41SLSP_NETWORK'\n",
    "\n",
    "r = requests.get(url, params=params)\n",
    "print(r.text)"
   ]
  },
  {
   "cell_type": "code",
   "execution_count": null,
   "id": "4ea1d2b8",
   "metadata": {},
   "outputs": [],
   "source": [
    "# Raw url of the SRU request\n",
    "r.url"
   ]
  },
  {
   "cell_type": "code",
   "execution_count": null,
   "id": "782b82f0",
   "metadata": {},
   "outputs": [],
   "source": [
    "# Import lxml, used to handle XML data\n",
    "from lxml import etree\n",
    "\n",
    "# An XML parser is required to enable pretty printing to work when updating XML.\n",
    "parser = etree.XMLParser(remove_blank_text=True, remove_comments=True, ns_clean=True)\n",
    "\n",
    "# Namespaces shortcuts\n",
    "ns = {\n",
    "    \"srw\": \"http://www.loc.gov/zing/srw/\",\n",
    "    \"marc\": \"http://www.loc.gov/MARC21/slim\"\n",
    "}\n",
    "\n",
    "xml = etree.fromstring(r.content, parser=parser)\n",
    "xml"
   ]
  },
  {
   "cell_type": "code",
   "execution_count": null,
   "id": "6451eafc",
   "metadata": {},
   "outputs": [],
   "source": [
    "f001 = xml.find('.//marc:controlfield[@tag=\"001\"]', namespaces=ns)\n",
    "f001.text"
   ]
  },
  {
   "cell_type": "code",
   "execution_count": null,
   "id": "f72c13a0",
   "metadata": {},
   "outputs": [],
   "source": [
    "f001s = xml.findall('.//marc:controlfield[@tag=\"001\"]', namespaces=ns)\n",
    "for f001 in f001s:\n",
    "    print(f001.text)"
   ]
  },
  {
   "cell_type": "code",
   "execution_count": null,
   "id": "be2e321c",
   "metadata": {},
   "outputs": [],
   "source": [
    "records = xml.findall('.//marc:record', namespaces=ns)\n",
    "records"
   ]
  },
  {
   "cell_type": "code",
   "execution_count": null,
   "id": "ecede1bf",
   "metadata": {},
   "outputs": [],
   "source": [
    "for record in records:\n",
    "    print(record.findtext('marc:datafield[@tag=\"100\"]/marc:subfield[@code=\"a\"]', namespaces=ns))"
   ]
  },
  {
   "cell_type": "code",
   "execution_count": null,
   "id": "fd756971",
   "metadata": {},
   "outputs": [],
   "source": [
    "print(etree.tostring(records[1], pretty_print=True, encoding='unicode'))"
   ]
  },
  {
   "cell_type": "code",
   "execution_count": null,
   "id": "94ac36ba",
   "metadata": {},
   "outputs": [],
   "source": []
  },
  {
   "cell_type": "markdown",
   "id": "9d1beabc",
   "metadata": {},
   "source": [
    "## Same with Renouvaud"
   ]
  },
  {
   "cell_type": "code",
   "execution_count": null,
   "id": "bafd8bf3",
   "metadata": {},
   "outputs": [],
   "source": [
    "# Build simple request\n",
    "# Idea is to find 2 records with \"Python\" in the title\n",
    "\n",
    "import requests\n",
    "\n",
    "params = {\n",
    "    'version': '1.2',\n",
    "    'operation': 'searchRetrieve',\n",
    "    'query': 'alma.title=Python',\n",
    "    'maximumRecords': '2'\n",
    "}\n",
    "\n",
    "url = 'https://renouvaud.primo.exlibrisgroup.com/view/sru/41BCULAUSA_NETWORK'\n",
    "\n",
    "r = requests.get(url, params=params)\n",
    "print(r.text)"
   ]
  },
  {
   "cell_type": "code",
   "execution_count": null,
   "id": "4070b72d",
   "metadata": {},
   "outputs": [],
   "source": []
  }
 ],
 "metadata": {
  "kernelspec": {
   "display_name": "Python 3 (ipykernel)",
   "language": "python",
   "name": "python3"
  },
  "language_info": {
   "codemirror_mode": {
    "name": "ipython",
    "version": 3
   },
   "file_extension": ".py",
   "mimetype": "text/x-python",
   "name": "python",
   "nbconvert_exporter": "python",
   "pygments_lexer": "ipython3",
   "version": "3.13.7"
  }
 },
 "nbformat": 4,
 "nbformat_minor": 5
}

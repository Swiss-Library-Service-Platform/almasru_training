{
 "cells": [
  {
   "cell_type": "markdown",
   "id": "809b6063",
   "metadata": {},
   "source": [
    "# Introduction\n",
    "\n",
    "### Content\n",
    "In this workshop, we will play with SRU APIs to access data from the Swisscovery or Renouvaud catalogs. The focus will therefore be on open data and the tools that enable access to it. Among the tools, we will discuss the Python library almasru. These tools enable real-time interconnection of services and are also useful for data analysis. For example:\n",
    "\n",
    "* Determine which libraries have a particular title\n",
    "* Check whether a record is linked to any other records containing copies and could potentially be deleted\n",
    "* Check for duplicate records for a given record\n",
    "\n",
    "### Outline\n",
    "\n",
    "* Part 1: Configuration of a SRU server  \n",
    "* Part 2: Basic queries\n",
    "    * Examples\n",
    "    * Exercises\n",
    "    * Solutions\n",
    "* Part 3: cql syntax\n",
    "    * Examples\n",
    "    * Exercises\n",
    "    * Solutions\n",
    "* Part 4: Almasru\n",
    "    * Examples\n",
    "    * Execises\n",
    "    * Solutions\n",
    "* Part 5: project ideas\n",
    "    * Fetch analytical records\n",
    "    * Check holdings of libraries\n",
    "    * Check removable records\n",
    "    * Deduplicate records\n",
    "\n",
    "### Author\n",
    "* Raphaël Rey\n",
    "* [raphael.rey@slsp.ch](mailto:raphael.rey@slsp.ch)\n",
    "\n",
    "### License\n",
    "CC-BY"
   ]
  },
  {
   "cell_type": "markdown",
   "id": "ff43b450",
   "metadata": {},
   "source": [
    "### Documentation\n",
    "#### General documentation\n",
    "* https://www.loc.gov/standards/sru\n",
    "* https://www.loc.gov/standards/sru/cql/spec.html\n",
    "\n",
    "#### Ex Libris documentation\n",
    "* CQL in Alma: https://developers.exlibrisgroup.com/alma/integrations/sru/\n",
    "* Integration profile: https://knowledge.exlibrisgroup.com/Alma/Product_Documentation/010Alma_Online_Help_(English)/090Integrations_with_External_Systems/030Resource_Management/190SRU_SRW_Search \n",
    "* Alma indexes: https://knowledge.exlibrisgroup.com/Alma/Product_Documentation/010Alma_Online_Help_(English)/Metadata_Management/180Search_Indexes/051MARC_21_Bibliographic_All_Titles_Search\n",
    "* Inventory information: https://developers.exlibrisgroup.com/alma/apis/docs/bibs/R0VUIC9hbG1hd3MvdjEvYmlicy97bW1zX2lkfQ==/\n",
    "* Material type in queries: https://knowledge.exlibrisgroup.com/Alma/Knowledge_Articles/How_to_query_SRU_server_by_material_type\n",
    "#### SLSP documentation\n",
    "* SLSP metadata: https://slsp.ch/en/metadata/\n",
    "* https://slsp.atlassian.net/wiki/x/dQefB (SLSP internal)\n",
    "\n",
    "#### SRU servers\n",
    "* https://swisscovery.slsp.ch/view/sru/41SLSP_NETWORK?version=1.2&operation=explain\n",
    "* https://renouvaud.primo.exlibrisgroup.com/view/sru/41BCULAUSA_NETWORK?version=1.2&operation=explain\n",
    "* https://www.sudoc.abes.fr/cbs/sru/?operation=explain&version=1.1\n",
    "\n",
    "#### Tools\n",
    "* Almasru: https://almasru.readthedocs.io\n",
    "* sru_queryer: https://developers.exlibrisgroup.com/blog/working-with-bib-data-using-sru-made-easier/\n",
    "* lxml: https://lxml.de\n",
    "* BeautifulSoup4: https://www.crummy.com/software/BeautifulSoup/bs4/doc/\n",
    "* PyMarc: https://pymarc.readthedocs.io/ \n",
    "* Yaz: https://www.indexdata.com/resources/software/yaz/"
   ]
  },
  {
   "cell_type": "code",
   "execution_count": null,
   "id": "f66b378e",
   "metadata": {},
   "outputs": [],
   "source": []
  }
 ],
 "metadata": {
  "kernelspec": {
   "display_name": "Python 3 (ipykernel)",
   "language": "python",
   "name": "python3"
  },
  "language_info": {
   "codemirror_mode": {
    "name": "ipython",
    "version": 3
   },
   "file_extension": ".py",
   "mimetype": "text/x-python",
   "name": "python",
   "nbconvert_exporter": "python",
   "pygments_lexer": "ipython3",
   "version": "3.9.7"
  }
 },
 "nbformat": 4,
 "nbformat_minor": 5
}

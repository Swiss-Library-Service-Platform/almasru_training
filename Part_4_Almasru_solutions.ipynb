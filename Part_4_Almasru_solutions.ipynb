{
 "cells": [
  {
   "cell_type": "markdown",
   "id": "59ef4e45",
   "metadata": {},
   "source": [
    "# Part 4: Almasru - exercises\n",
    "### Goals\n",
    "* Learn to use Almasru library\n",
    "\n",
    "### Short description\n",
    "Almasru is a python library used to fetch easily records from SRU server. The system contains a lot of tools to find related records. The system make a backup of all requests. Unless you delete the history it will keep the results in memory.\n",
    "\n",
    "The deduplication system is however not maintened anymore. Recommendation is to use the dedupmarcxml library: https://dedupmarcxml.readthedocs.io\n",
    "\n",
    "### Documentation\n",
    "* https://almasru.readthedocs.io\n",
    "* https://github.com/Swiss-Library-Service-Platform/almasru"
   ]
  },
  {
   "cell_type": "code",
   "execution_count": 2,
   "id": "dd57f1f2",
   "metadata": {},
   "outputs": [],
   "source": [
    "# Import libraries\n",
    "from almasru.client import SruClient, SruRecord, IzSruRecord, SruRequest\n",
    "from almasru.utils import check_removable_records, analyse_records\n",
    "# from almasru import dedup\n",
    "# from almasru.briefrecord import BriefRecFactory, BriefRec\n",
    "from almasru import config_log\n",
    "\n",
    "# Config logs\n",
    "config_log()"
   ]
  },
  {
   "cell_type": "code",
   "execution_count": 3,
   "id": "475ffb20",
   "metadata": {},
   "outputs": [
    {
     "name": "stdout",
     "output_type": "stream",
     "text": [
      "2025-09-02 01:26:14,248 - INFO - Records 1 - 1 / 1, \"alma.mms_id=991042095849705501\": 1\n",
      "<record xmlns=\"http://www.loc.gov/MARC21/slim\">\n",
      "  <leader>00698naa a22001812c 4500</leader>\n",
      "  <controlfield tag=\"001\">991042095849705501</controlfield>\n",
      "  <controlfield tag=\"005\">20241004194331.0</controlfield>\n",
      "  <controlfield tag=\"008\">991211s1979    xxk           00| | eng d</controlfield>\n",
      "  <datafield ind1=\" \" ind2=\" \" tag=\"035\">\n",
      "    <subfield code=\"a\">(swissbib)032274408-41slsp_network</subfield>\n",
      "  </datafield>\n",
      "  <datafield ind1=\" \" ind2=\" \" tag=\"035\">\n",
      "    <subfield code=\"a\">032274408</subfield>\n",
      "    <subfield code=\"9\">ExL</subfield>\n",
      "  </datafield>\n",
      "  <datafield ind1=\" \" ind2=\" \" tag=\"035\">\n",
      "    <subfield code=\"a\">(IDSBB)001963059DSV01</subfield>\n",
      "  </datafield>\n",
      "  <datafield ind1=\" \" ind2=\" \" tag=\"040\">\n",
      "    <subfield code=\"a\">SzZuIDS BS/BE A164</subfield>\n",
      "    <subfield code=\"b\">ger</subfield>\n",
      "    <subfield code=\"e\">kids</subfield>\n",
      "    <subfield code=\"d\">CH-ZuSLS</subfield>\n",
      "  </datafield>\n",
      "  <datafield ind1=\"1\" ind2=\" \" tag=\"100\">\n",
      "    <subfield code=\"a\">Chrisman, Richard</subfield>\n",
      "  </datafield>\n",
      "  <datafield ind1=\"1\" ind2=\"0\" tag=\"245\">\n",
      "    <subfield code=\"a\">Anton Webern's \"Six bagatelles for string quartet\" op. 9: the unfolding of intervallic successions</subfield>\n",
      "    <subfield code=\"c\">Richard Chrisman</subfield>\n",
      "  </datafield>\n",
      "  <datafield ind1=\" \" ind2=\" \" tag=\"336\">\n",
      "    <subfield code=\"b\">txt</subfield>\n",
      "    <subfield code=\"2\">rdacontent</subfield>\n",
      "  </datafield>\n",
      "  <datafield ind1=\" \" ind2=\" \" tag=\"337\">\n",
      "    <subfield code=\"b\">n</subfield>\n",
      "    <subfield code=\"2\">rdamedia</subfield>\n",
      "  </datafield>\n",
      "  <datafield ind1=\" \" ind2=\" \" tag=\"338\">\n",
      "    <subfield code=\"b\">nc</subfield>\n",
      "    <subfield code=\"2\">rdacarrier</subfield>\n",
      "  </datafield>\n",
      "  <datafield ind1=\"0\" ind2=\" \" tag=\"773\">\n",
      "    <subfield code=\"t\">Journal of music theory</subfield>\n",
      "    <subfield code=\"d\">New Haven (Conn.). -</subfield>\n",
      "    <subfield code=\"g\">Vol.23 (1979), no.1, S.81-122</subfield>\n",
      "    <subfield code=\"q\">23/1/81</subfield>\n",
      "    <subfield code=\"w\">(IDSBB)000010912DSV01</subfield>\n",
      "  </datafield>\n",
      "  <datafield ind1=\"0\" ind2=\"1\" tag=\"852\">\n",
      "    <subfield code=\"a\">41SLSP_UBS</subfield>\n",
      "    <subfield code=\"6\">9919630590105504</subfield>\n",
      "    <subfield code=\"9\">P</subfield>\n",
      "  </datafield>\n",
      "</record>\n",
      "\n"
     ]
    }
   ],
   "source": [
    "# Fetch one record in NZ\n",
    "SruClient.set_base_url('https://swisscovery.ch/view/sru/41SLSP_NETWORK')\n",
    "record = SruRecord('991042095849705501')\n",
    "print(record)"
   ]
  },
  {
   "cell_type": "code",
   "execution_count": 5,
   "id": "d3df73a0",
   "metadata": {},
   "outputs": [
    {
     "data": {
      "text/plain": [
       "{'MMS_ID': '991042095849705501',\n",
       " 'related_records_found': True,\n",
       " 'number_of_rel_recs': 1,\n",
       " 'related_records': {SruRecord('991017428369705501', base_url='https://swisscovery.ch/view/sru/41SLSP_NETWORK')},\n",
       " 'fields_related_records': [{'parent_MMS_ID': '991017428369705501',\n",
       "   'field': '773$w',\n",
       "   'content': '(IDSBB)000010912DSV01'}]}"
      ]
     },
     "execution_count": 5,
     "metadata": {},
     "output_type": "execute_result"
    }
   ],
   "source": [
    "parent_rec = record.get_parent_rec()\n",
    "parent_rec"
   ]
  },
  {
   "cell_type": "markdown",
   "id": "d82d23ad",
   "metadata": {},
   "source": [
    "### Some tasks with Almasru\n",
    "* Find documents with empty isbn and python in the title\n",
    "* Get all IZ records of books with ISBN \"9783960091691\" "
   ]
  },
  {
   "cell_type": "code",
   "execution_count": 35,
   "id": "2553ee3b",
   "metadata": {},
   "outputs": [
    {
     "name": "stdout",
     "output_type": "stream",
     "text": [
      "2025-09-02 01:44:18,604 - INFO - SRU data fetched: https://swisscovery.ch/view/sru/41SLSP_NETWORK?query=alma.isbn+all+%22%22+and+title%3D%22python%22&version=1.2&operation=searchRetrieve&startRecord=1&maximumRecords=10\n",
      "2025-09-02 01:44:18,612 - WARNING - SruRequest('alma.isbn all \"\" and title=\"python\"', limit=10, base_url='https://swisscovery.ch/view/sru/41SLSP_NETWORK'): number of available results exceed the limit provided\n",
      "2025-09-02 01:44:18,617 - INFO - Records 1 - 10 / 686, \"alma.isbn all \"\" and title=\"python\"\": 10\n"
     ]
    }
   ],
   "source": [
    "# Find documents with isbn not empty and python in the title\n",
    "r = SruRequest(query='alma.isbn all \"\" and title=\"python\"')"
   ]
  },
  {
   "cell_type": "code",
   "execution_count": 26,
   "id": "e12fe846",
   "metadata": {},
   "outputs": [
    {
     "data": {
      "text/plain": [
       "SruRequest('(alma.isbn all \"2\" or alma.isbn all \"1\") and title=\"python\"', limit=10, base_url='https://swisscovery.ch/view/sru/41SLSP_NETWORK')"
      ]
     },
     "execution_count": 26,
     "metadata": {},
     "output_type": "execute_result"
    }
   ],
   "source": [
    "r"
   ]
  },
  {
   "cell_type": "code",
   "execution_count": 36,
   "id": "2448e9be",
   "metadata": {},
   "outputs": [
    {
     "name": "stdout",
     "output_type": "stream",
     "text": [
      "2025-09-02 01:46:22,515 - INFO - SRU data fetched: https://swisscovery.ch/view/sru/41SLSP_NETWORK?query=alma.isbn+all+9783960091691&version=1.2&operation=searchRetrieve&startRecord=1&maximumRecords=10\n",
      "2025-09-02 01:46:22,523 - INFO - Records 1 - 2 / 2, \"alma.isbn all 9783960091691\": 2\n"
     ]
    },
    {
     "data": {
      "text/plain": [
       "[SruRecord('991170725301705501', base_url='https://swisscovery.ch/view/sru/41SLSP_NETWORK'),\n",
       " SruRecord('991170737505705501', base_url='https://swisscovery.ch/view/sru/41SLSP_NETWORK')]"
      ]
     },
     "execution_count": 36,
     "metadata": {},
     "output_type": "execute_result"
    }
   ],
   "source": [
    "# Get all IZ records of books with ISBN \"9783960091691\" \n",
    "r = SruRequest(query='alma.isbn all 9783960091691')\n",
    "r.records"
   ]
  },
  {
   "cell_type": "code",
   "execution_count": 47,
   "id": "4d2c9995",
   "metadata": {},
   "outputs": [
    {
     "name": "stdout",
     "output_type": "stream",
     "text": [
      "2025-09-02 01:55:25,275 - INFO - SruRecord('991170725301705501', base_url='https://swisscovery.ch/view/sru/41SLSP_NETWORK'): record used in IZ: 41SLSP_ZAW, 41SLSP_HPH, 41SLSP_PHZ, 41SLSP_FHO, 41SLSP_UBE\n",
      "['41SLSP_ZAW', '41SLSP_HPH', '41SLSP_PHZ', '41SLSP_FHO', '41SLSP_UBE']\n",
      "2025-09-02 01:55:25,279 - INFO - SruRecord('991170725301705501', base_url='https://swisscovery.ch/view/sru/41SLSP_NETWORK'): 5 records in IZ found\n",
      "2025-09-02 01:55:25,282 - INFO - SruRecord('991170725301705501', base_url='https://swisscovery.ch/view/sru/41SLSP_NETWORK'): 5 records in IZ found\n",
      "2025-09-02 01:55:25,284 - ERROR - IzSruRecord('99116811404305510', base_url='https://swisscovery.ch/view/sru/41SLSP_HPH'): number of records found: 0, should be only 1\n",
      "2025-09-02 01:55:25,290 - INFO - SruRecord('991170725301705501', base_url='https://swisscovery.ch/view/sru/41SLSP_NETWORK'): 5 records in IZ found\n",
      "2025-09-02 01:55:25,297 - ERROR - IzSruRecord('99116811404305510', base_url='https://swisscovery.ch/view/sru/41SLSP_PHZ'): number of records found: 0, should be only 1\n",
      "2025-09-02 01:55:25,300 - ERROR - IzSruRecord('991001431114605520', base_url='https://swisscovery.ch/view/sru/41SLSP_PHZ'): number of records found: 0, should be only 1\n",
      "2025-09-02 01:55:25,305 - INFO - SruRecord('991170725301705501', base_url='https://swisscovery.ch/view/sru/41SLSP_NETWORK'): 5 records in IZ found\n",
      "2025-09-02 01:55:25,306 - ERROR - IzSruRecord('99116811404305510', base_url='https://swisscovery.ch/view/sru/41SLSP_FHO'): number of records found: 0, should be only 1\n",
      "2025-09-02 01:55:25,313 - ERROR - IzSruRecord('991001431114605520', base_url='https://swisscovery.ch/view/sru/41SLSP_FHO'): number of records found: 0, should be only 1\n",
      "2025-09-02 01:55:25,314 - ERROR - IzSruRecord('99116798803605521', base_url='https://swisscovery.ch/view/sru/41SLSP_FHO'): number of records found: 0, should be only 1\n",
      "2025-09-02 01:55:25,316 - INFO - SruRecord('991170725301705501', base_url='https://swisscovery.ch/view/sru/41SLSP_NETWORK'): 5 records in IZ found\n",
      "2025-09-02 01:55:25,318 - ERROR - IzSruRecord('99116811404305510', base_url='https://swisscovery.ch/view/sru/41SLSP_UBE'): number of records found: 0, should be only 1\n",
      "2025-09-02 01:55:25,320 - ERROR - IzSruRecord('991001431114605520', base_url='https://swisscovery.ch/view/sru/41SLSP_UBE'): number of records found: 0, should be only 1\n",
      "2025-09-02 01:55:25,321 - ERROR - IzSruRecord('99116798803605521', base_url='https://swisscovery.ch/view/sru/41SLSP_UBE'): number of records found: 0, should be only 1\n",
      "2025-09-02 01:55:25,324 - ERROR - IzSruRecord('99116795705405515', base_url='https://swisscovery.ch/view/sru/41SLSP_UBE'): number of records found: 0, should be only 1\n",
      "2025-09-02 01:55:25,327 - INFO - SruRecord('991170737505705501', base_url='https://swisscovery.ch/view/sru/41SLSP_NETWORK'): record used in IZ: 41SLSP_UZB, 41SLSP_FHO\n",
      "['41SLSP_UZB', '41SLSP_FHO']\n",
      "2025-09-02 01:55:25,329 - INFO - SruRecord('991170737505705501', base_url='https://swisscovery.ch/view/sru/41SLSP_NETWORK'): 2 records in IZ found\n",
      "2025-09-02 01:55:25,332 - INFO - SruRecord('991170737505705501', base_url='https://swisscovery.ch/view/sru/41SLSP_NETWORK'): 2 records in IZ found\n",
      "2025-09-02 01:55:25,335 - ERROR - IzSruRecord('99117112680305508', base_url='https://swisscovery.ch/view/sru/41SLSP_FHO'): number of records found: 0, should be only 1\n"
     ]
    }
   ],
   "source": [
    "iz_recs = dict()\n",
    "for nzrec in r.records:\n",
    "    izs = nzrec.get_iz_using_rec()\n",
    "    iz_recs[nzrec.mms_id] = []\n",
    "    print(izs)\n",
    "    for iz in izs:\n",
    "        iz_recs[nzrec.mms_id].append(nzrec.get_iz_record(f'https://swisscovery.ch/view/sru/{iz}'))\n",
    "        "
   ]
  },
  {
   "cell_type": "code",
   "execution_count": 48,
   "id": "95093bff",
   "metadata": {},
   "outputs": [
    {
     "data": {
      "text/plain": [
       "{'991170725301705501': [IzSruRecord('99116811404305510', base_url='https://swisscovery.ch/view/sru/41SLSP_ZAW'),\n",
       "  IzSruRecord('991001431114605520', base_url='https://swisscovery.ch/view/sru/41SLSP_HPH'),\n",
       "  IzSruRecord('99116798803605521', base_url='https://swisscovery.ch/view/sru/41SLSP_PHZ'),\n",
       "  IzSruRecord('99116795705405515', base_url='https://swisscovery.ch/view/sru/41SLSP_FHO'),\n",
       "  IzSruRecord('99117227594205511', base_url='https://swisscovery.ch/view/sru/41SLSP_UBE')],\n",
       " '991170737505705501': [IzSruRecord('99117112680305508', base_url='https://swisscovery.ch/view/sru/41SLSP_UZB'),\n",
       "  IzSruRecord('99116800806405515', base_url='https://swisscovery.ch/view/sru/41SLSP_FHO')]}"
      ]
     },
     "execution_count": 48,
     "metadata": {},
     "output_type": "execute_result"
    }
   ],
   "source": [
    "iz_recs"
   ]
  },
  {
   "cell_type": "code",
   "execution_count": null,
   "id": "8c2f43c8",
   "metadata": {},
   "outputs": [],
   "source": []
  }
 ],
 "metadata": {
  "kernelspec": {
   "display_name": "Python 3 (ipykernel)",
   "language": "python",
   "name": "python3"
  },
  "language_info": {
   "codemirror_mode": {
    "name": "ipython",
    "version": 3
   },
   "file_extension": ".py",
   "mimetype": "text/x-python",
   "name": "python",
   "nbconvert_exporter": "python",
   "pygments_lexer": "ipython3",
   "version": "3.9.7"
  }
 },
 "nbformat": 4,
 "nbformat_minor": 5
}

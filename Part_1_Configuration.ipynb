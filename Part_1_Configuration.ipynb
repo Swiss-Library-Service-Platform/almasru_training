{
 "cells": [
  {
   "cell_type": "markdown",
   "id": "6d020e7d",
   "metadata": {},
   "source": [
    "# Part 1: configuration\n",
    "\n",
    "### Introduction to SRU\n",
    "#### What is SRU?\n",
    "SRU (Search/Retrieve via URL) is a protocol standardized by the Library of Congress that allows queries to be sent to bibliographic databases and other information systems over the web (https://www.loc.gov/standards/sru). Unlike proprietary APIs, it is based on open standards, which ensures interoperability between systems and long-term sustainability of data exchange.\n",
    "\n",
    "#### How Does It Work?\n",
    "A query is formulated in the URL using CQL (Contextual Query Language), and the server responds with structured results, usually in XML (commonly MARCXML, Dublin Core, or MODS).\n",
    "\n",
    "#### Why Use SRU?\n",
    "SRU is widely used in the library world to provide a flexible, standardised solution for making catalogues available online. In Alma, it is the only solution that allows you to search directly in MARC data. With the Primo API, you can search PNX, whereas other Alma APIs don't allow you to search bibliographical data — you have to know the ID of the records you are looking for.\n",
    "\n",
    "\n",
    "### Alma configuration\n",
    "The configuration in Alma is very simple. You have to configure an integration profile. You have to do it in each institutional zone.\n",
    "\n",
    "![SRU server configuration in Alma](pictures/Alma_sru_configuration_400px.png)\n",
    "\n",
    "It is possible to normalize the data and to decide which records can be shown as available.\n",
    "\n",
    "#### Some limitations in Alma\n",
    "- scan operation\n",
    "- `not` boolean\n",
    "\n",
    "### VuFind configuration\n",
    "You need to install your own SRU server, for example https://www.indexdata.com/resources/software/yazproxy/\n"
   ]
  },
  {
   "cell_type": "code",
   "execution_count": null,
   "id": "4c97ac33",
   "metadata": {},
   "outputs": [],
   "source": []
  }
 ],
 "metadata": {
  "kernelspec": {
   "display_name": "Python 3 (ipykernel)",
   "language": "python",
   "name": "python3"
  },
  "language_info": {
   "codemirror_mode": {
    "name": "ipython",
    "version": 3
   },
   "file_extension": ".py",
   "mimetype": "text/x-python",
   "name": "python",
   "nbconvert_exporter": "python",
   "pygments_lexer": "ipython3",
   "version": "3.9.7"
  }
 },
 "nbformat": 4,
 "nbformat_minor": 5
}

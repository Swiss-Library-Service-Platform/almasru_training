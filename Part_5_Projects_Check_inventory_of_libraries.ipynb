{
 "cells": [
  {
   "cell_type": "markdown",
   "id": "74b8db89",
   "metadata": {},
   "source": [
    "# Part 5: projects - Check inventory of libraries\n",
    "\n",
    "### Context\n",
    "Collection managers need to know the collection status of other libraries in order to guide their acquisition and weeding policies. The goal here is to build a script that uses an ISBN or ISSN to check which libraries have a printed inventory of the document.\n",
    "\n",
    "\n",
    "### To do\n",
    "\n",
    "The system will search for records at the NZ level, considering only fields 020a and 022a, and then, based on the records found, it will retrieve the list of IZs and libraries that own the document.\n",
    "\n",
    "### Result\n",
    "The result is a dictionary with IZ codes as keys and a set of library codes that own the document as values. \n",
    "\n",
    "```\n",
    "{\n",
    "    'IZ_code_1': {'lib_code_1', 'lib_code_2'},\n",
    "    'IZ_code_2': {'lib_code_3'},\n",
    "    ...\n",
    "}\n",
    "```\n",
    "It is possible to use lists instead of a set, but you will have duplicated libraries in the list.\n",
    "\n",
    "### Difficulty level\n",
    "Medium"
   ]
  },
  {
   "cell_type": "code",
   "execution_count": 5,
   "id": "81ac5d4b",
   "metadata": {},
   "outputs": [
    {
     "name": "stdout",
     "output_type": "stream",
     "text": [
      "2025-09-02 08:29:04,855 - INFO - Records 1 - 9 / 9, \"alma.standard_number=0020-7985\": 9\n"
     ]
    }
   ],
   "source": [
    "# Import libraries\n",
    "from almasru.client import SruClient, SruRecord, IzSruRecord, SruRequest\n",
    "from almasru.utils import check_removable_records, analyse_records\n",
    "from almasru import dedup\n",
    "from almasru.briefrecord import BriefRecFactory, BriefRec\n",
    "from almasru import config_log\n",
    "from lxml import etree\n",
    "\n",
    "parser = etree.XMLParser(remove_blank_text=True, remove_comments=True, ns_clean=True)\n",
    "\n",
    "ns = {\n",
    "    \"srw\": \"http://www.loc.gov/zing/srw/\",\n",
    "    \"marc\": \"http://www.loc.gov/MARC21/slim\"\n",
    "}\n",
    "\n",
    "# Config logs\n",
    "config_log()\n",
    "zone = '41SLSP_NETWORK'\n",
    "SruClient.set_base_url(f'https://swisscovery.ch/view/sru/{zone}')\n",
    "std_num = '0020-7985'\n",
    "records = SruRequest(f'alma.standard_number={std_num}').records\n",
    "\n",
    "def has_record_std_num_in_02x(std_num, record):\n",
    "    std_nums = [f.text.replace('-', '') for f in record.data.findall('.//marc:datafield[@tag=\"020\"]/marc:subfield[@code=\"a\"]', namespaces=ns)]\n",
    "    std_nums += [f.text.replace('-', '') for f in record.data.findall('.//marc:datafield[@tag=\"022\"]/marc:subfield[@code=\"a\"]', namespaces=ns)]\n",
    "    if std_num.replace('-', '') in std_nums:\n",
    "        return True\n",
    "    else:\n",
    "        return False\n",
    "\n",
    "records = [r for r in records if has_record_std_num_in_02x(std_num, r)]\n",
    "\n",
    "result = dict()\n",
    "for record in records:\n",
    "    izs = record.get_iz_using_rec()\n",
    "    for iz in izs:\n",
    "        result[iz] = set()\n",
    "        iz_rec = record.get_iz_record(f'https://swisscovery.ch/view/sru/{iz}')\n",
    "        inventory = iz_rec.get_inventory_info()\n",
    "        for hol in inventory:\n",
    "            result[iz].add(hol['library'])"
   ]
  },
  {
   "cell_type": "code",
   "execution_count": 6,
   "id": "ae55c00f",
   "metadata": {},
   "outputs": [
    {
     "data": {
      "text/plain": [
       "4"
      ]
     },
     "execution_count": 6,
     "metadata": {},
     "output_type": "execute_result"
    }
   ],
   "source": []
  },
  {
   "cell_type": "code",
   "execution_count": 7,
   "id": "0fcf34b9",
   "metadata": {},
   "outputs": [
    {
     "name": "stdout",
     "output_type": "stream",
     "text": [
      "2025-09-02 08:29:06,654 - INFO - SruRecord('991170911588205501', base_url='https://swisscovery.ch/view/sru/41SLSP_NETWORK'): record used in IZ: 41BIG_INST\n",
      "2025-09-02 08:29:06,658 - INFO - SruRecord('991170911588205501', base_url='https://swisscovery.ch/view/sru/41SLSP_NETWORK'): 1 records in IZ found\n",
      "2025-09-02 08:29:06,661 - INFO - IzSruRecord('993900804101791', base_url='https://swisscovery.ch/view/sru/41BIG_INST'): inventory in IZ found (2)\n",
      "2025-09-02 08:29:06,664 - INFO - SruRecord('991124328919705501', base_url='https://swisscovery.ch/view/sru/41SLSP_NETWORK'): record used in IZ: 41SLSP_RZH, 41SLSP_SBK, 41SLSP_UBS\n",
      "2025-09-02 08:29:06,666 - INFO - SruRecord('991124328919705501', base_url='https://swisscovery.ch/view/sru/41SLSP_NETWORK'): 3 records in IZ found\n",
      "2025-09-02 08:29:06,668 - INFO - IzSruRecord('990009912310205526', base_url='https://swisscovery.ch/view/sru/41SLSP_RZH'): inventory in IZ found (2)\n",
      "2025-09-02 08:29:06,670 - INFO - SruRecord('991124328919705501', base_url='https://swisscovery.ch/view/sru/41SLSP_NETWORK'): 3 records in IZ found\n",
      "2025-09-02 08:29:06,672 - ERROR - IzSruRecord('990009912310205526', base_url='https://swisscovery.ch/view/sru/41SLSP_SBK'): number of records found: 0, should be only 1\n",
      "2025-09-02 08:29:06,676 - INFO - IzSruRecord('990009912310205529', base_url='https://swisscovery.ch/view/sru/41SLSP_SBK'): inventory in IZ found (2)\n",
      "2025-09-02 08:29:06,677 - INFO - SruRecord('991124328919705501', base_url='https://swisscovery.ch/view/sru/41SLSP_NETWORK'): 3 records in IZ found\n",
      "2025-09-02 08:29:06,678 - ERROR - IzSruRecord('990009912310205526', base_url='https://swisscovery.ch/view/sru/41SLSP_UBS'): number of records found: 0, should be only 1\n",
      "2025-09-02 08:29:06,680 - ERROR - IzSruRecord('990009912310205529', base_url='https://swisscovery.ch/view/sru/41SLSP_UBS'): number of records found: 0, should be only 1\n",
      "2025-09-02 08:29:06,682 - INFO - IzSruRecord('99922040105504', base_url='https://swisscovery.ch/view/sru/41SLSP_UBS'): inventory in IZ found (1)\n",
      "2025-09-02 08:29:06,683 - INFO - SruRecord('991071589009705501', base_url='https://swisscovery.ch/view/sru/41SLSP_NETWORK'): record used in IZ: 41SLSP_UGE, 41SLSP_UNE, 41SLSP_IID, 41SLSP_VGE\n",
      "2025-09-02 08:29:06,685 - INFO - SruRecord('991071589009705501', base_url='https://swisscovery.ch/view/sru/41SLSP_NETWORK'): 4 records in IZ found\n",
      "2025-09-02 08:29:06,686 - INFO - IzSruRecord('991001794049705502', base_url='https://swisscovery.ch/view/sru/41SLSP_UGE'): inventory in IZ found (1)\n",
      "2025-09-02 08:29:06,687 - INFO - SruRecord('991071589009705501', base_url='https://swisscovery.ch/view/sru/41SLSP_NETWORK'): 4 records in IZ found\n",
      "2025-09-02 08:29:06,688 - ERROR - IzSruRecord('991001794049705502', base_url='https://swisscovery.ch/view/sru/41SLSP_UNE'): number of records found: 0, should be only 1\n",
      "2025-09-02 08:29:06,690 - INFO - IzSruRecord('991008395229705517', base_url='https://swisscovery.ch/view/sru/41SLSP_UNE'): inventory in IZ found (1)\n",
      "2025-09-02 08:29:06,692 - INFO - SruRecord('991071589009705501', base_url='https://swisscovery.ch/view/sru/41SLSP_NETWORK'): 4 records in IZ found\n",
      "2025-09-02 08:29:06,693 - ERROR - IzSruRecord('991001794049705502', base_url='https://swisscovery.ch/view/sru/41SLSP_IID'): number of records found: 0, should be only 1\n",
      "2025-09-02 08:29:06,694 - ERROR - IzSruRecord('991008395229705517', base_url='https://swisscovery.ch/view/sru/41SLSP_IID'): number of records found: 0, should be only 1\n",
      "2025-09-02 08:29:06,695 - INFO - IzSruRecord('991001966959705523', base_url='https://swisscovery.ch/view/sru/41SLSP_IID'): inventory in IZ found (1)\n",
      "2025-09-02 08:29:06,696 - INFO - SruRecord('991071589009705501', base_url='https://swisscovery.ch/view/sru/41SLSP_NETWORK'): 4 records in IZ found\n",
      "2025-09-02 08:29:06,697 - ERROR - IzSruRecord('991001794049705502', base_url='https://swisscovery.ch/view/sru/41SLSP_VGE'): number of records found: 0, should be only 1\n",
      "2025-09-02 08:29:06,698 - ERROR - IzSruRecord('991008395229705517', base_url='https://swisscovery.ch/view/sru/41SLSP_VGE'): number of records found: 0, should be only 1\n",
      "2025-09-02 08:29:06,700 - ERROR - IzSruRecord('991001966959705523', base_url='https://swisscovery.ch/view/sru/41SLSP_VGE'): number of records found: 0, should be only 1\n",
      "2025-09-02 08:29:06,702 - INFO - IzSruRecord('991000180779705524', base_url='https://swisscovery.ch/view/sru/41SLSP_VGE'): inventory in IZ found (1)\n",
      "2025-09-02 08:29:06,703 - INFO - SruRecord('991002592419705501', base_url='https://swisscovery.ch/view/sru/41SLSP_NETWORK'): record used in IZ: 41SLSP_UGE, 41SLSP_UNE, 41SLSP_BCUFR, 41SLSP_IID, 41SLSP_VGE\n",
      "2025-09-02 08:29:06,705 - INFO - SruRecord('991002592419705501', base_url='https://swisscovery.ch/view/sru/41SLSP_NETWORK'): 5 records in IZ found\n",
      "2025-09-02 08:29:06,707 - INFO - IzSruRecord('991009361719705502', base_url='https://swisscovery.ch/view/sru/41SLSP_UGE'): inventory in IZ found (1)\n",
      "2025-09-02 08:29:06,708 - INFO - SruRecord('991002592419705501', base_url='https://swisscovery.ch/view/sru/41SLSP_NETWORK'): 5 records in IZ found\n",
      "2025-09-02 08:29:06,709 - ERROR - IzSruRecord('991009361719705502', base_url='https://swisscovery.ch/view/sru/41SLSP_UNE'): number of records found: 0, should be only 1\n",
      "2025-09-02 08:29:06,711 - INFO - IzSruRecord('991004434529705517', base_url='https://swisscovery.ch/view/sru/41SLSP_UNE'): inventory in IZ found (1)\n",
      "2025-09-02 08:29:06,712 - INFO - SruRecord('991002592419705501', base_url='https://swisscovery.ch/view/sru/41SLSP_NETWORK'): 5 records in IZ found\n",
      "2025-09-02 08:29:06,713 - ERROR - IzSruRecord('991009361719705502', base_url='https://swisscovery.ch/view/sru/41SLSP_BCUFR'): number of records found: 0, should be only 1\n",
      "2025-09-02 08:29:06,714 - ERROR - IzSruRecord('991004434529705517', base_url='https://swisscovery.ch/view/sru/41SLSP_BCUFR'): number of records found: 0, should be only 1\n",
      "2025-09-02 08:29:06,716 - INFO - IzSruRecord('991007629319705509', base_url='https://swisscovery.ch/view/sru/41SLSP_BCUFR'): inventory in IZ found (1)\n",
      "2025-09-02 08:29:06,717 - INFO - SruRecord('991002592419705501', base_url='https://swisscovery.ch/view/sru/41SLSP_NETWORK'): 5 records in IZ found\n",
      "2025-09-02 08:29:06,717 - ERROR - IzSruRecord('991009361719705502', base_url='https://swisscovery.ch/view/sru/41SLSP_IID'): number of records found: 0, should be only 1\n",
      "2025-09-02 08:29:06,718 - ERROR - IzSruRecord('991004434529705517', base_url='https://swisscovery.ch/view/sru/41SLSP_IID'): number of records found: 0, should be only 1\n",
      "2025-09-02 08:29:06,719 - ERROR - IzSruRecord('991007629319705509', base_url='https://swisscovery.ch/view/sru/41SLSP_IID'): number of records found: 0, should be only 1\n",
      "2025-09-02 08:29:06,720 - INFO - IzSruRecord('991001582929705523', base_url='https://swisscovery.ch/view/sru/41SLSP_IID'): inventory in IZ found (1)\n",
      "2025-09-02 08:29:06,721 - INFO - SruRecord('991002592419705501', base_url='https://swisscovery.ch/view/sru/41SLSP_NETWORK'): 5 records in IZ found\n",
      "2025-09-02 08:29:06,722 - ERROR - IzSruRecord('991009361719705502', base_url='https://swisscovery.ch/view/sru/41SLSP_VGE'): number of records found: 0, should be only 1\n",
      "2025-09-02 08:29:06,722 - ERROR - IzSruRecord('991004434529705517', base_url='https://swisscovery.ch/view/sru/41SLSP_VGE'): number of records found: 0, should be only 1\n",
      "2025-09-02 08:29:06,723 - ERROR - IzSruRecord('991007629319705509', base_url='https://swisscovery.ch/view/sru/41SLSP_VGE'): number of records found: 0, should be only 1\n",
      "2025-09-02 08:29:06,724 - ERROR - IzSruRecord('991001582929705523', base_url='https://swisscovery.ch/view/sru/41SLSP_VGE'): number of records found: 0, should be only 1\n",
      "2025-09-02 08:29:06,724 - INFO - IzSruRecord('991005434789705524', base_url='https://swisscovery.ch/view/sru/41SLSP_VGE'): inventory in IZ found (1)\n"
     ]
    }
   ],
   "source": [
    "\n",
    "        \n",
    "        "
   ]
  },
  {
   "cell_type": "code",
   "execution_count": 8,
   "id": "44274417",
   "metadata": {},
   "outputs": [
    {
     "data": {
      "text/plain": [
       "{'41BIG_INST': {'BIG'},\n",
       " '41SLSP_RZH': {'E19'},\n",
       " '41SLSP_SBK': {'UZSBK', 'Z0SBK'},\n",
       " '41SLSP_UBS': {'A125'},\n",
       " '41SLSP_UGE': {'uge_mail'},\n",
       " '41SLSP_UNE': {'une_sfm'},\n",
       " '41SLSP_IID': {'iid'},\n",
       " '41SLSP_VGE': {'vge_bge'},\n",
       " '41SLSP_BCUFR': {'BCUF_BP2'}}"
      ]
     },
     "execution_count": 8,
     "metadata": {},
     "output_type": "execute_result"
    }
   ],
   "source": [
    "result"
   ]
  },
  {
   "cell_type": "code",
   "execution_count": 20,
   "id": "bbd52453",
   "metadata": {},
   "outputs": [],
   "source": [
    "std_fields = [f.text.replace('-', '') for f in record.data.findall('.//marc:datafield[@tag=\"020\"]/marc:subfield[@code=\"a\"]', namespaces=ns)]\n",
    "std_fields += [f.text.replace('-', '') for f in record.data.findall('.//marc:datafield[@tag=\"022\"]/marc:subfield[@code=\"a\"]', namespaces=ns)]"
   ]
  },
  {
   "cell_type": "code",
   "execution_count": 21,
   "id": "eed5048c",
   "metadata": {},
   "outputs": [
    {
     "data": {
      "text/plain": [
       "['00207985']"
      ]
     },
     "execution_count": 21,
     "metadata": {},
     "output_type": "execute_result"
    }
   ],
   "source": [
    "std_fields"
   ]
  },
  {
   "cell_type": "code",
   "execution_count": 19,
   "id": "572ab59e",
   "metadata": {},
   "outputs": [],
   "source": [
    "record = records[3]"
   ]
  },
  {
   "cell_type": "code",
   "execution_count": 18,
   "id": "3cf98d70",
   "metadata": {},
   "outputs": [
    {
     "name": "stdout",
     "output_type": "stream",
     "text": [
      "<record xmlns=\"http://www.loc.gov/MARC21/slim\">\n",
      "  <leader>02283nas a2200433 c 4500</leader>\n",
      "  <controlfield tag=\"001\">991071589009705501</controlfield>\n",
      "  <controlfield tag=\"005\">20250731110615.0</controlfield>\n",
      "  <controlfield tag=\"008\">001117d19671992sz || p|  ||| 0    0eng d</controlfield>\n",
      "  <datafield ind1=\" \" ind2=\" \" tag=\"022\">\n",
      "    <subfield code=\"a\">0020-7985</subfield>\n",
      "  </datafield>\n",
      "  <datafield ind1=\" \" ind2=\" \" tag=\"035\">\n",
      "    <subfield code=\"a\">(swissbib)081553137-41slsp_network</subfield>\n",
      "  </datafield>\n",
      "  <datafield ind1=\" \" ind2=\" \" tag=\"035\">\n",
      "    <subfield code=\"a\">081553137</subfield>\n",
      "    <subfield code=\"9\">ExL</subfield>\n",
      "  </datafield>\n",
      "  <datafield ind1=\" \" ind2=\" \" tag=\"035\">\n",
      "    <subfield code=\"a\">(RERO)0814503-41slsp</subfield>\n",
      "  </datafield>\n",
      "  <datafield ind1=\" \" ind2=\" \" tag=\"040\">\n",
      "    <subfield code=\"a\">RERO geufpe</subfield>\n",
      "    <subfield code=\"d\">CH-ZuSLS</subfield>\n",
      "  </datafield>\n",
      "  <datafield ind1=\"0\" ind2=\" \" tag=\"041\">\n",
      "    <subfield code=\"a\">eng</subfield>\n",
      "    <subfield code=\"a\">spa</subfield>\n",
      "    <subfield code=\"a\">fre</subfield>\n",
      "  </datafield>\n",
      "  <datafield ind1=\" \" ind2=\" \" tag=\"044\">\n",
      "    <subfield code=\"a\">sz</subfield>\n",
      "    <subfield code=\"c\">ch-ge</subfield>\n",
      "  </datafield>\n",
      "  <datafield ind1=\" \" ind2=\"7\" tag=\"072\">\n",
      "    <subfield code=\"a\">ss</subfield>\n",
      "    <subfield code=\"2\">rero</subfield>\n",
      "  </datafield>\n",
      "  <datafield ind1=\" \" ind2=\"7\" tag=\"072\">\n",
      "    <subfield code=\"a\">dr</subfield>\n",
      "    <subfield code=\"2\">rero</subfield>\n",
      "  </datafield>\n",
      "  <datafield ind1=\" \" ind2=\" \" tag=\"084\">\n",
      "    <subfield code=\"a\">D 17 f</subfield>\n",
      "    <subfield code=\"2\">cjurrom</subfield>\n",
      "  </datafield>\n",
      "  <datafield ind1=\"0\" ind2=\"0\" tag=\"245\">\n",
      "    <subfield code=\"a\">International migration</subfield>\n",
      "    <subfield code=\"b\">quarterly review of the Intergovernmental Committee for European Migration = Migrations internationales : revue trimestrielle du Comit&#233; intergouvernemental pour les migrations europ&#233;ennes = Migraciones internacionales : publicaci&#243;n trimestral del Comit&#233; intergubernamental para las migraciones europeas</subfield>\n",
      "  </datafield>\n",
      "  <datafield ind1=\"1\" ind2=\" \" tag=\"246\">\n",
      "    <subfield code=\"a\">Migrations internationales</subfield>\n",
      "  </datafield>\n",
      "  <datafield ind1=\"1\" ind2=\" \" tag=\"246\">\n",
      "    <subfield code=\"a\">Migraciones internacionales</subfield>\n",
      "  </datafield>\n",
      "  <datafield ind1=\" \" ind2=\"1\" tag=\"264\">\n",
      "    <subfield code=\"a\">Gen&#232;ve</subfield>\n",
      "    <subfield code=\"b\">CIME</subfield>\n",
      "  </datafield>\n",
      "  <datafield ind1=\" \" ind2=\" \" tag=\"300\">\n",
      "    <subfield code=\"c\">24 cm</subfield>\n",
      "  </datafield>\n",
      "  <datafield ind1=\" \" ind2=\" \" tag=\"336\">\n",
      "    <subfield code=\"b\">txt</subfield>\n",
      "    <subfield code=\"2\">rdacontent</subfield>\n",
      "  </datafield>\n",
      "  <datafield ind1=\" \" ind2=\" \" tag=\"337\">\n",
      "    <subfield code=\"b\">n</subfield>\n",
      "    <subfield code=\"2\">rdamedia</subfield>\n",
      "  </datafield>\n",
      "  <datafield ind1=\" \" ind2=\" \" tag=\"338\">\n",
      "    <subfield code=\"b\">nc</subfield>\n",
      "    <subfield code=\"2\">rdacarrier</subfield>\n",
      "  </datafield>\n",
      "  <datafield ind1=\"0\" ind2=\" \" tag=\"362\">\n",
      "    <subfield code=\"a\">Vol. 5(1967) - vol. 30, no. 1(March 1992)</subfield>\n",
      "  </datafield>\n",
      "  <datafield ind1=\" \" ind2=\" \" tag=\"580\">\n",
      "    <subfield code=\"a\">Fusion de: International migration. De: Migrations internationales. Et de: Migraciones internacionales. Devient: International migration : quarterly review</subfield>\n",
      "  </datafield>\n",
      "  <datafield ind1=\" \" ind2=\"7\" tag=\"650\">\n",
      "    <subfield code=\"a\">Migrations</subfield>\n",
      "    <subfield code=\"0\">(IDREF)027791459</subfield>\n",
      "    <subfield code=\"2\">idref</subfield>\n",
      "  </datafield>\n",
      "  <datafield ind1=\" \" ind2=\"7\" tag=\"650\">\n",
      "    <subfield code=\"a\">&#201;migration et immigration</subfield>\n",
      "    <subfield code=\"0\">(IDREF)027233103</subfield>\n",
      "    <subfield code=\"2\">idref</subfield>\n",
      "  </datafield>\n",
      "  <datafield ind1=\" \" ind2=\"7\" tag=\"655\">\n",
      "    <subfield code=\"a\">P&#233;riodique</subfield>\n",
      "    <subfield code=\"0\">(IDREF)02724640X</subfield>\n",
      "    <subfield code=\"2\">idref</subfield>\n",
      "  </datafield>\n",
      "  <datafield ind1=\"2\" ind2=\" \" tag=\"710\">\n",
      "    <subfield code=\"a\">Organisation internationale pour les migrations</subfield>\n",
      "    <subfield code=\"0\">(IDREF)028037707</subfield>\n",
      "  </datafield>\n",
      "  <datafield ind1=\"2\" ind2=\" \" tag=\"710\">\n",
      "    <subfield code=\"a\">Organisation internationale pour les migrations</subfield>\n",
      "    <subfield code=\"0\">(IDREF)028037707</subfield>\n",
      "  </datafield>\n",
      "  <datafield ind1=\"2\" ind2=\" \" tag=\"710\">\n",
      "    <subfield code=\"a\">Organisation internationale pour les migrations</subfield>\n",
      "    <subfield code=\"0\">(IDREF)028037707</subfield>\n",
      "  </datafield>\n",
      "  <datafield ind1=\"0\" ind2=\"0\" tag=\"780\">\n",
      "    <subfield code=\"t\">International migration : quarterly review on the role of migratory movements in the contemporary world</subfield>\n",
      "    <subfield code=\"w\">(RERO)1607029-41slsp</subfield>\n",
      "  </datafield>\n",
      "  <datafield ind1=\"0\" ind2=\"0\" tag=\"780\">\n",
      "    <subfield code=\"t\">Migrations internationales : le r&#244;le des mouvements migratoires dans le monde contemporain : revue trimestrielle</subfield>\n",
      "    <subfield code=\"w\">(RERO)1606665-41slsp</subfield>\n",
      "  </datafield>\n",
      "  <datafield ind1=\"0\" ind2=\"0\" tag=\"780\">\n",
      "    <subfield code=\"t\">Migraciones internacionales : publicaci&#243;n trimestral sobre la influencia de los movimientos migratorios en el mundo contempor&#225;neo</subfield>\n",
      "    <subfield code=\"w\">(RERO)1606922-41slsp</subfield>\n",
      "  </datafield>\n",
      "  <datafield ind1=\"0\" ind2=\"0\" tag=\"785\">\n",
      "    <subfield code=\"t\">International migration : quarterly review</subfield>\n",
      "    <subfield code=\"w\">(RERO)1635635-41slsp</subfield>\n",
      "  </datafield>\n",
      "  <datafield ind1=\"0\" ind2=\"1\" tag=\"852\">\n",
      "    <subfield code=\"a\">41SLSP_UGE</subfield>\n",
      "    <subfield code=\"6\">991001794049705502</subfield>\n",
      "    <subfield code=\"9\">P</subfield>\n",
      "  </datafield>\n",
      "  <datafield ind1=\"0\" ind2=\"1\" tag=\"852\">\n",
      "    <subfield code=\"a\">41SLSP_UNE</subfield>\n",
      "    <subfield code=\"6\">991008395229705517</subfield>\n",
      "    <subfield code=\"9\">P</subfield>\n",
      "  </datafield>\n",
      "  <datafield ind1=\"0\" ind2=\"1\" tag=\"852\">\n",
      "    <subfield code=\"a\">41SLSP_IID</subfield>\n",
      "    <subfield code=\"6\">991001966959705523</subfield>\n",
      "    <subfield code=\"9\">P</subfield>\n",
      "  </datafield>\n",
      "  <datafield ind1=\"0\" ind2=\"1\" tag=\"852\">\n",
      "    <subfield code=\"a\">41SLSP_VGE</subfield>\n",
      "    <subfield code=\"6\">991000180779705524</subfield>\n",
      "    <subfield code=\"9\">P</subfield>\n",
      "  </datafield>\n",
      "  <datafield ind1=\" \" ind2=\" \" tag=\"900\">\n",
      "    <subfield code=\"a\">REROnoselfmerge</subfield>\n",
      "  </datafield>\n",
      "</record>\n",
      "\n"
     ]
    }
   ],
   "source": [
    "print(records[3])"
   ]
  },
  {
   "cell_type": "code",
   "execution_count": null,
   "id": "6f238ec9",
   "metadata": {},
   "outputs": [],
   "source": []
  }
 ],
 "metadata": {
  "kernelspec": {
   "display_name": "Python 3 (ipykernel)",
   "language": "python",
   "name": "python3"
  },
  "language_info": {
   "codemirror_mode": {
    "name": "ipython",
    "version": 3
   },
   "file_extension": ".py",
   "mimetype": "text/x-python",
   "name": "python",
   "nbconvert_exporter": "python",
   "pygments_lexer": "ipython3",
   "version": "3.9.7"
  }
 },
 "nbformat": 4,
 "nbformat_minor": 5
}

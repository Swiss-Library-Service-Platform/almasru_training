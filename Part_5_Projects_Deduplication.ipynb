{
 "cells": [
  {
   "cell_type": "markdown",
   "id": "f5fdd668-be7c-4d39-a747-bebf488aec91",
   "metadata": {},
   "source": [
    "# Part 5: Projects – Deduplication\n",
    "\n",
    "### Context\n",
    "Deduplication is an important step during data migration or when cleaning existing datasets. Since librarians often follow different cataloguing practices and do not always describe items in the same way, this task can be quite challenging.\n",
    "\n",
    "### Task\n",
    "An algorithm for comparing records is already provided, but it only solves part of the problem. The bigger question is: **how do we identify potential duplicate candidates to compare in the first place?**\n",
    "\n",
    "A common approach is to use the metadata of records to generate several SRU queries. To be thorough, you need to retrieve enough candidates to avoid missing possible duplicates. However, fetching too many candidates can be time-consuming, so you also need to limit the number of results.\n",
    "\n",
    "In practice, you will take one record from BCUL and retrieve possible duplicate candidates from SLSP. You can then verify the candidates using the provided deduplication function:\n",
    "\n",
    "```python\n",
    "# Provided helper (interface may vary in your environment)\n",
    "# is_duplicated(record1, record2) -> should be used to validate candidate pairs\n",
    "```\n",
    "\n",
    "### Result\n",
    "Implement a function that takes an MMS ID as input. The function should return a tuple in the following format:\n",
    "\n",
    "```python\n",
    "(<is_match>, <mms_id_of_the_best_match>, <score_of_the_best_match>)\n",
    "```\n",
    "\n",
    "* `is_match`: boolean indicating whether a sufficiently good duplicate was found\n",
    "* `mms_id_of_the_best_match`: MMS ID of the best candidate (or `None` if none found)\n",
    "* `score_of_the_best_match`: numeric score produced by your comparison, or `None` if none"
   ]
  },
  {
   "cell_type": "code",
   "execution_count": 2,
   "id": "5ded550f-efc1-4b3c-8f82-73a70cde9706",
   "metadata": {},
   "outputs": [
    {
     "name": "stderr",
     "output_type": "stream",
     "text": [
      "C:\\Users\\RaphaëlRey\\AppData\\Local\\Packages\\PythonSoftwareFoundation.Python.3.13_qbz5n2kfra8p0\\LocalCache\\local-packages\\Python313\\site-packages\\sklearn\\base.py:442: InconsistentVersionWarning: Trying to unpickle estimator DecisionTreeClassifier from version 1.6.1 when using version 1.7.1. This might lead to breaking code or invalid results. Use at your own risk. For more info please refer to:\n",
      "https://scikit-learn.org/stable/model_persistence.html#security-maintainability-limitations\n",
      "  warnings.warn(\n",
      "C:\\Users\\RaphaëlRey\\AppData\\Local\\Packages\\PythonSoftwareFoundation.Python.3.13_qbz5n2kfra8p0\\LocalCache\\local-packages\\Python313\\site-packages\\sklearn\\base.py:442: InconsistentVersionWarning: Trying to unpickle estimator RandomForestClassifier from version 1.6.1 when using version 1.7.1. This might lead to breaking code or invalid results. Use at your own risk. For more info please refer to:\n",
      "https://scikit-learn.org/stable/model_persistence.html#security-maintainability-limitations\n",
      "  warnings.warn(\n",
      "C:\\Users\\RaphaëlRey\\AppData\\Local\\Packages\\PythonSoftwareFoundation.Python.3.13_qbz5n2kfra8p0\\LocalCache\\local-packages\\Python313\\site-packages\\sklearn\\base.py:442: InconsistentVersionWarning: Trying to unpickle estimator LabelBinarizer from version 1.6.1 when using version 1.7.1. This might lead to breaking code or invalid results. Use at your own risk. For more info please refer to:\n",
      "https://scikit-learn.org/stable/model_persistence.html#security-maintainability-limitations\n",
      "  warnings.warn(\n",
      "C:\\Users\\RaphaëlRey\\AppData\\Local\\Packages\\PythonSoftwareFoundation.Python.3.13_qbz5n2kfra8p0\\LocalCache\\local-packages\\Python313\\site-packages\\sklearn\\base.py:442: InconsistentVersionWarning: Trying to unpickle estimator MLPClassifier from version 1.6.1 when using version 1.7.1. This might lead to breaking code or invalid results. Use at your own risk. For more info please refer to:\n",
      "https://scikit-learn.org/stable/model_persistence.html#security-maintainability-limitations\n",
      "  warnings.warn(\n"
     ]
    }
   ],
   "source": [
    "# Import libraries\n",
    "from almasru.client import SruClient, SruRecord, IzSruRecord, SruRequest\n",
    "from almasru.utils import check_removable_records, analyse_records\n",
    "from almasru import dedup\n",
    "from almasru.briefrecord import BriefRecFactory, BriefRec\n",
    "from almasru import config_log\n",
    "\n",
    "import numpy as np\n",
    "import pandas as pd\n",
    "from typing import Tuple\n",
    "\n",
    "from dedupmarcxml.evaluate import evaluate_records_similarity, get_similarity_score\n",
    "from dedupmarcxml.briefrecord import XmlBriefRec\n",
    "\n",
    "# Config logs\n",
    "config_log()"
   ]
  },
  {
   "cell_type": "code",
   "execution_count": 3,
   "id": "511f1e25-288b-4047-9247-e05209994a9e",
   "metadata": {},
   "outputs": [],
   "source": [
    "def is_duplicated(rec1: XmlBriefRec, rec2: XmlBriefRec) -> Tuple[bool, float]:\n",
    "    \"\"\"\n",
    "    Determine whether two MARC XML records are considered duplicates.\n",
    "\n",
    "    Parameters\n",
    "    ----------\n",
    "    rec1 : XmlBriefRec\n",
    "        First record, constructed from an etree.Element representing a MARC XML record.\n",
    "    rec2 : XmlBriefRec\n",
    "        Second record to compare, also constructed from an etree.Element.\n",
    "\n",
    "    Returns\n",
    "    -------\n",
    "    Tuple[bool, float]\n",
    "        A tuple containing:\n",
    "        - A boolean indicating whether the records are considered duplicates.\n",
    "        - A float representing the similarity score (≥ 0.5 indicates duplication).\n",
    "    \"\"\"\n",
    "    score_detailed = evaluate_records_similarity(rec1, rec2)\n",
    "    return get_similarity_score(score_detailed, method='random_forest_general') >= 0.5, get_similarity_score(score_detailed, method='random_forest_general')"
   ]
  },
  {
   "cell_type": "code",
   "execution_count": 20,
   "id": "9f03a83b-1ec8-4d6f-9271-fcff85865955",
   "metadata": {},
   "outputs": [
    {
     "name": "stdout",
     "output_type": "stream",
     "text": [
      "2025-09-08 15:27:44,940 - INFO - Records 1 - 1 / 1, \"alma.mms_id=991024372153702851\": 1\n",
      "2025-09-08 15:27:44,944 - INFO - Records 1 - 1 / 1, \"alma.mms_id=991171135496005501\": 1\n",
      "Is duplicated: True (0.8056666666666668)\n"
     ]
    }
   ],
   "source": [
    "# Same material type (ISBN: 9782412077467)\n",
    "SruClient.set_base_url('https://renouvaud.primo.exlibrisgroup.com/view/sru/41BCULAUSA_NETWORK')\n",
    "r = SruRequest(query='alma.mms_id=991024372153702851')\n",
    "bcul_rec = r.records[0] \n",
    "bcul_briefrec = XmlBriefRec(bcul_rec.data)\n",
    "SruClient.set_base_url('https://swisscovery.ch/view/sru/41SLSP_NETWORK')\n",
    "r = SruRequest(query='alma.mms_id=991171135496005501')\n",
    "slsp_rec = r.records[0] \n",
    "slsp_briefrec = XmlBriefRec(slsp_rec.data)\n",
    "result, score = is_duplicated(slsp_briefrec, bcul_briefrec)\n",
    "print(f'Is duplicated: {result} ({score})')"
   ]
  },
  {
   "cell_type": "code",
   "execution_count": 21,
   "id": "27c2d24c-9f3d-4c7a-96ef-75c130076477",
   "metadata": {},
   "outputs": [
    {
     "name": "stdout",
     "output_type": "stream",
     "text": [
      "2025-09-08 15:27:45,179 - INFO - Records 1 - 1 / 1, \"alma.mms_id=991024372153702851\": 1\n",
      "2025-09-08 15:27:46,113 - INFO - SRU data fetched: https://swisscovery.ch/view/sru/41SLSP_NETWORK?query=alma.mms_id%3D991171940910205501&version=1.2&operation=searchRetrieve&startRecord=1&maximumRecords=10\n",
      "2025-09-08 15:27:46,121 - INFO - Records 1 - 1 / 1, \"alma.mms_id=991171940910205501\": 1\n",
      "Is duplicated: False (0.3653333333333333)\n"
     ]
    }
   ],
   "source": [
    "# Print compared to e-version (ISBN: 9782412077467)\n",
    "SruClient.set_base_url('https://renouvaud.primo.exlibrisgroup.com/view/sru/41BCULAUSA_NETWORK')\n",
    "r = SruRequest(query='alma.mms_id=991024372153702851')\n",
    "bcul_rec = r.records[0] \n",
    "bcul_briefrec = XmlBriefRec(bcul_rec.data)\n",
    "SruClient.set_base_url('https://swisscovery.ch/view/sru/41SLSP_NETWORK')\n",
    "r = SruRequest(query='alma.mms_id=991171940910205501')\n",
    "slsp_rec = r.records[0] \n",
    "slsp_briefrec = XmlBriefRec(slsp_rec.data)\n",
    "result, score = is_duplicated(slsp_briefrec, bcul_briefrec)\n",
    "print(f'Is duplicated: {result} ({score})')"
   ]
  },
  {
   "cell_type": "code",
   "execution_count": 8,
   "id": "81260ffc-74bc-476d-8f0a-dc0be33fd77b",
   "metadata": {},
   "outputs": [
    {
     "data": {
      "text/plain": [
       "{'format': 1.0,\n",
       " 'titles': np.float64(0.7548294315960244),\n",
       " 'short_titles': np.float64(1.0),\n",
       " 'creators': np.float64(1.0),\n",
       " 'corp_creators': 0.0,\n",
       " 'languages': 1.0,\n",
       " 'publishers': np.float64(0.9999999924109011),\n",
       " 'editions': 0.0,\n",
       " 'extent': np.float64(0.6740657233026162),\n",
       " 'years': 0.9200000000000002,\n",
       " 'series': 0.0,\n",
       " 'parent': 0.0,\n",
       " 'std_nums': 1.0,\n",
       " 'sys_nums': 0.1}"
      ]
     },
     "execution_count": 8,
     "metadata": {},
     "output_type": "execute_result"
    }
   ],
   "source": [
    "evaluate_records_similarity(slsp_briefrec, bcul_briefrec)"
   ]
  },
  {
   "cell_type": "code",
   "execution_count": 10,
   "id": "5a8c333d-19ef-4854-99fd-a66df6627e00",
   "metadata": {},
   "outputs": [
    {
     "name": "stdout",
     "output_type": "stream",
     "text": [
      "{\n",
      "    \"rec_id\": \"991171135496005501\",\n",
      "    \"format\": {\n",
      "        \"type\": \"Book\",\n",
      "        \"access\": \"Physical\",\n",
      "        \"analytical\": false,\n",
      "        \"f33x\": \"txt;n;nc\"\n",
      "    },\n",
      "    \"titles\": [\n",
      "        {\n",
      "            \"m\": \"Python pour la finance\",\n",
      "            \"s\": \"\"\n",
      "        }\n",
      "    ],\n",
      "    \"short_titles\": [\n",
      "        \"Python pour la finance\"\n",
      "    ],\n",
      "    \"creators\": [\n",
      "        \"Hilpisch, Yves\"\n",
      "    ],\n",
      "    \"corp_creators\": null,\n",
      "    \"languages\": [\n",
      "        \"fre\"\n",
      "    ],\n",
      "    \"extent\": {\n",
      "        \"nb\": [\n",
      "            689\n",
      "        ],\n",
      "        \"txt\": \"689 pages\"\n",
      "    },\n",
      "    \"editions\": null,\n",
      "    \"years\": {\n",
      "        \"y1\": [\n",
      "            2022\n",
      "        ],\n",
      "        \"y2\": 2022\n",
      "    },\n",
      "    \"publishers\": [\n",
      "        \"First interactive\"\n",
      "    ],\n",
      "    \"series\": null,\n",
      "    \"parent\": null,\n",
      "    \"std_nums\": [\n",
      "        \"9782412077467\"\n",
      "    ],\n",
      "    \"sys_nums\": null\n",
      "}\n"
     ]
    }
   ],
   "source": [
    "print(slsp_briefrec)"
   ]
  },
  {
   "cell_type": "code",
   "execution_count": 9,
   "id": "d55aa70c-a6ad-4927-93e2-c17845708ebe",
   "metadata": {},
   "outputs": [
    {
     "name": "stdout",
     "output_type": "stream",
     "text": [
      "{\n",
      "    \"rec_id\": \"991024372153702851\",\n",
      "    \"format\": {\n",
      "        \"type\": \"Book\",\n",
      "        \"access\": \"Physical\",\n",
      "        \"analytical\": false,\n",
      "        \"f33x\": \"txt;n;nc\"\n",
      "    },\n",
      "    \"titles\": [\n",
      "        {\n",
      "            \"m\": \"Python pour la finance :\",\n",
      "            \"s\": \"ma\\u00eetriser la finance algorithmique /\"\n",
      "        }\n",
      "    ],\n",
      "    \"short_titles\": [\n",
      "        \"Python pour la finance :\"\n",
      "    ],\n",
      "    \"creators\": [\n",
      "        \"Hilpisch, Yves\"\n",
      "    ],\n",
      "    \"corp_creators\": null,\n",
      "    \"languages\": [\n",
      "        \"fre\"\n",
      "    ],\n",
      "    \"extent\": {\n",
      "        \"nb\": [\n",
      "            689,\n",
      "            23\n",
      "        ],\n",
      "        \"txt\": \"xxiii, 689 pages :\"\n",
      "    },\n",
      "    \"editions\": null,\n",
      "    \"years\": {\n",
      "        \"y1\": [\n",
      "            2022\n",
      "        ],\n",
      "        \"y2\": 2024\n",
      "    },\n",
      "    \"publishers\": [\n",
      "        \"First Interactive,\",\n",
      "        \"O'Reilly\"\n",
      "    ],\n",
      "    \"series\": null,\n",
      "    \"parent\": null,\n",
      "    \"std_nums\": [\n",
      "        \"9782412077467\"\n",
      "    ],\n",
      "    \"sys_nums\": [\n",
      "        \"(RNV_B)0003003761\"\n",
      "    ]\n",
      "}\n"
     ]
    }
   ],
   "source": [
    "print(bcul_briefrec)"
   ]
  },
  {
   "cell_type": "code",
   "execution_count": null,
   "id": "a5213f12-32cd-4b2e-b6e1-a76b744a4673",
   "metadata": {},
   "outputs": [],
   "source": []
  }
 ],
 "metadata": {
  "kernelspec": {
   "display_name": "Python 3 (ipykernel)",
   "language": "python",
   "name": "python3"
  },
  "language_info": {
   "codemirror_mode": {
    "name": "ipython",
    "version": 3
   },
   "file_extension": ".py",
   "mimetype": "text/x-python",
   "name": "python",
   "nbconvert_exporter": "python",
   "pygments_lexer": "ipython3",
   "version": "3.13.7"
  }
 },
 "nbformat": 4,
 "nbformat_minor": 5
}

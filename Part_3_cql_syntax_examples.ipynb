{
 "cells": [
  {
   "cell_type": "markdown",
   "id": "11308d82",
   "metadata": {},
   "source": [
    "# Part 3: CQL syntax - examples\n",
    "### Goals\n",
    "* To create more complex CQL queries\n",
    "* To understand how to make some specific queries in Alma\n",
    "    * Search by library\n",
    "    * Search for inventory in institution\n",
    "    * Special operators\n",
    "    * CQL limitations\n",
    "   \n",
    "### How to use SRU\n",
    "#### SRU servers\n",
    "* https://swisscovery.slsp.ch/view/sru/41SLSP_NETWORK?version=1.2&operation=explain\n",
    "* https://renouvaud.primo.exlibrisgroup.com/view/sru/41BCULAUSA_NETWORK?version=1.2&operation=explain\n",
    "* https://www.sudoc.abes.fr/cbs/sru/?operation=explain&version=1.1\n",
    "\n",
    "#### Documentation\n",
    "* https://slsp.ch/fr/metadonnees/\n",
    "* https://developers.exlibrisgroup.com/alma/integrations/sru/\n",
    "* https://knowledge.exlibrisgroup.com/Alma/Product_Documentation/Alma_Online_Help_(Francais)/130Int%C3%A9grations_avec_des_syst%C3%A8mes_externes/030Gestion_des_ressources/170Recherche_SRU%2F%2FSRW\n",
    "* https://abes.fr/wp-content/uploads/2023/05/guide-utilisation-service-sru-catalogue-sudoc.pdf"
   ]
  },
  {
   "cell_type": "code",
   "execution_count": 3,
   "id": "fe033789",
   "metadata": {},
   "outputs": [],
   "source": [
    "import requests\n",
    "from lxml import etree\n",
    "\n",
    "parser = etree.XMLParser(remove_blank_text=True, remove_comments=True, ns_clean=True)\n",
    "\n",
    "ns = {\n",
    "    \"srw\": \"http://www.loc.gov/zing/srw/\",\n",
    "    \"marc\": \"http://www.loc.gov/MARC21/slim\"\n",
    "}"
   ]
  },
  {
   "cell_type": "markdown",
   "id": "0a3975c8",
   "metadata": {},
   "source": [
    "## Search by library\n",
    "To search directly in holdings of the libraries, we need to use an SRU server at the IZ level.\n",
    "\n",
    "Code of the libraries cannot be used in SRU, we need the ID of the library. We can see it in html of Primo or in response of API responses about library information."
   ]
  },
  {
   "cell_type": "code",
   "execution_count": 5,
   "id": "f122ad86",
   "metadata": {},
   "outputs": [],
   "source": [
    "params = {\n",
    "    'version': '1.2',\n",
    "    'operation': 'searchRetrieve',\n",
    "    'query': 'alma.holding_Library=112062990005504 and alma.title=Arbre',\n",
    "    'maximumRecords': '10'\n",
    "}\n",
    "\n",
    "url = 'https://swisscovery.ch/view/sru/41SLSP_UBS'\n",
    "\n",
    "r = requests.get(url, params=params)\n",
    "xml = etree.fromstring(r.content, parser=parser)"
   ]
  },
  {
   "cell_type": "code",
   "execution_count": 16,
   "id": "b0310b84",
   "metadata": {},
   "outputs": [
    {
     "name": "stdout",
     "output_type": "stream",
     "text": [
      "MMS ID:  9961001430105504\n",
      "\t Münchenstein – Bibliothek für Gestaltung Basel  -  available\n",
      "MMS ID:  9951928380105504\n",
      "\t Münchenstein – Bibliothek für Gestaltung Basel  -  available\n",
      "MMS ID:  9941040010105504\n",
      "\t Münchenstein – Bibliothek für Gestaltung Basel  -  available\n",
      "MMS ID:  9910722950105504\n",
      "\t Münchenstein – Bibliothek für Gestaltung Basel  -  available\n",
      "MMS ID:  9967690830105504\n",
      "\t Münchenstein – Bibliothek für Gestaltung Basel  -  available\n",
      "MMS ID:  993360990105504\n",
      "\t Münchenstein – Bibliothek für Gestaltung Basel  -  available\n",
      "\t Basel - Staatsarchiv Basel-Stadt  -  available\n",
      "\t Basel - UB Hauptbibliothek  -  available\n",
      "\t Münchenstein – Bibliothek für Gestaltung Basel  -  available\n",
      "\t Basel - UB Hauptbibliothek  -  unavailable\n"
     ]
    }
   ],
   "source": [
    "for record in xml.findall('.//marc:record', namespaces=ns):\n",
    "    print('MMS ID: ', record.findtext('marc:controlfield[@tag=\"001\"]', namespaces=ns))\n",
    "    for ava_f in record.findall('.//marc:datafield[@tag=\"AVA\"]', namespaces=ns):\n",
    "        print('\\t', ava_f.findtext('marc:subfield[@code=\"q\"]', namespaces=ns), ' - ', ava_f.findtext('marc:subfield[@code=\"e\"]', namespaces=ns))"
   ]
  },
  {
   "cell_type": "code",
   "execution_count": 18,
   "id": "b8b7117f",
   "metadata": {},
   "outputs": [
    {
     "name": "stdout",
     "output_type": "stream",
     "text": [
      "<datafield xmlns=\"http://www.loc.gov/MARC21/slim\" ind1=\" \" ind2=\" \" tag=\"AVA\">\n",
      "  <subfield code=\"0\">993360550105504</subfield>\n",
      "  <subfield code=\"8\">22243533230005504</subfield>\n",
      "  <subfield code=\"a\">41SLSP_UBS</subfield>\n",
      "  <subfield code=\"b\">A100</subfield>\n",
      "  <subfield code=\"c\">Magazin (&lt;a href=\"https://ub.unibas.ch/de/lieferfristen/\"&gt;Lieferfristen beachten&lt;/a&gt;)</subfield>\n",
      "  <subfield code=\"d\">UBH</subfield>\n",
      "  <subfield code=\"e\">unavailable</subfield>\n",
      "  <subfield code=\"f\">1</subfield>\n",
      "  <subfield code=\"g\">1</subfield>\n",
      "  <subfield code=\"v\">from:1/8 until:1/8</subfield>\n",
      "  <subfield code=\"j\">MAG</subfield>\n",
      "  <subfield code=\"p\">5</subfield>\n",
      "  <subfield code=\"q\">Basel - UB Hauptbibliothek</subfield>\n",
      "</datafield>\n",
      "\n"
     ]
    }
   ],
   "source": [
    "print(etree.tostring(ava_f, pretty_print=True, encoding='unicode'))"
   ]
  },
  {
   "cell_type": "markdown",
   "id": "4d111bcc",
   "metadata": {},
   "source": [
    "## Search for inventory in institutions\n",
    "\n",
    "We use the network SRU server. Holdings of the institutions are present in the 852 datafield."
   ]
  },
  {
   "cell_type": "code",
   "execution_count": 32,
   "id": "7501cfdf",
   "metadata": {},
   "outputs": [],
   "source": [
    "params = {\n",
    "    'version': '1.2',\n",
    "    'operation': 'searchRetrieve',\n",
    "    'query': 'alma.title=Arbre',\n",
    "    'maximumRecords': '20'\n",
    "}\n",
    "\n",
    "url = 'https://swisscovery.ch/view/sru/41SLSP_NETWORK'\n",
    "\n",
    "r = requests.get(url, params=params)\n",
    "xml = etree.fromstring(r.content, parser=parser)"
   ]
  },
  {
   "cell_type": "code",
   "execution_count": 33,
   "id": "8c3c9ca1",
   "metadata": {},
   "outputs": [
    {
     "name": "stdout",
     "output_type": "stream",
     "text": [
      "991117977839705501: 41SLSP_ETH\n",
      "991032061729705501: 41SLSP_VGE\n",
      "991006745929705501: 41SLSP_BCUFR, 41SLSP_VGE\n",
      "991081713259705501: 41SLSP_VGE\n",
      "991118204289705501: 41SLSP_BCUFR\n",
      "991158803789705501: 41SLSP_VGE\n",
      "991019524009705501: 41SLSP_UBS\n",
      "991023388199705501: 41SLSP_IID\n",
      "991170976881305501: 41SLSP_BCUFR\n",
      "991159947589705501: 41SLSP_VGE\n",
      "991013371239705501: 41SLSP_VGE\n",
      "991110997119705501: 41SLSP_VGE, 41SLSP_HES\n",
      "991121337109705501: 41SLSP_BCUFR\n",
      "991171932911205501: 41SLSP_USI\n",
      "991170709439905501: 41SLSP_UZB\n",
      "991170866407605501: 41SLSP_VGE\n",
      "991044659609705501: 41SLSP_VGE\n",
      "991129431259705501: 41SLSP_HES\n",
      "991157284479705501: 41SLSP_UZB\n",
      "991170693657905501: 41SLSP_BCUFR\n"
     ]
    }
   ],
   "source": [
    "for record in xml.findall('.//marc:record', namespaces=ns):\n",
    "    mms_id = record.findtext('marc:controlfield[@tag=\"001\"]', namespaces=ns)\n",
    "    izs = []\n",
    "    for f852 in record.findall('.//marc:datafield[@tag=\"852\"]', namespaces=ns):\n",
    "        \n",
    "        iz = f852.findtext('marc:subfield[@code=\"a\"]', namespaces=ns)\n",
    "        if iz is not None:\n",
    "            izs.append(iz)\n",
    "    if len(izs) > 0:\n",
    "        print(f'{mms_id}: {\", \".join(izs)}')\n",
    "    else:\n",
    "        print(f'{mms_id}: IN NETWORK ONLY')"
   ]
  },
  {
   "cell_type": "code",
   "execution_count": 34,
   "id": "3cd6f06f",
   "metadata": {},
   "outputs": [
    {
     "name": "stdout",
     "output_type": "stream",
     "text": [
      "<datafield xmlns=\"http://www.loc.gov/MARC21/slim\" ind1=\"0\" ind2=\"1\" tag=\"852\">\n",
      "  <subfield code=\"a\">41SLSP_BCUFR</subfield>\n",
      "  <subfield code=\"6\">991018687998405509</subfield>\n",
      "  <subfield code=\"9\">P</subfield>\n",
      "</datafield>\n",
      "\n"
     ]
    }
   ],
   "source": [
    "print(etree.tostring(f852, pretty_print=True, encoding='unicode'))"
   ]
  },
  {
   "cell_type": "markdown",
   "id": "fed82779",
   "metadata": {},
   "source": [
    "## Special syntax\n",
    "* We need to use `==` when the item to search contains `-` or `_`, it means exact match\n",
    "* We need to use `\"\"` when item to search contains `<`, `>`, `=`, `/`, `(`, `)` and whitespace\n",
    "* Indexes can cover more than one field"
   ]
  },
  {
   "cell_type": "code",
   "execution_count": 98,
   "id": "89e3c5c8",
   "metadata": {},
   "outputs": [
    {
     "name": "stdout",
     "output_type": "stream",
     "text": [
      "991063504289705501 Cinq Divertissements [No. 4] pour hautbois, clarinette et basson = The Oiseau-Lyre wind trios  /  <<Les>> trios d'anches de l'Oiseau-Lyre\n",
      "991040292589705501 Cinq divertissements pour hautbois, clarinette et basson = The Oiseau-Lyre wind trios  /  <<Les>> trios d'anches de l'Oiseau-lyre\n",
      "991060703239705501 Cinq pièces en trio pour hautbois, clarinette et basson = The Oiseau-Lyre wind trios  /  <<Les>> trios d'anches de l'Oiseau-lyre\n",
      "991138908959705501 Suite d'après Corrette pour hautbois, clarinette et basson = The Oiseau-Lyre wind trios  /  <<Les>> trios d'anches de l'Oiseau-lyre\n",
      "991107883369705501 Suite d'après Corrette, op. 161 (1937) pour hautbois, clarinette et basson = The Oiseau-Lyre wind trios  /  <<Les>> trios d'anches de l'Oiseau-Lyre\n",
      "991012476499705501 <<Les>> trios d'anches de l'Oiseau-lyre pour hautbois, clarinette et basson = The Oiseau-Lyre wind trios  /  None\n",
      "991125184419705501 <<Les>> trios d'anches de l'oiseau-lyre pour hautbois, clarinette et basson = The Oiseau-Lyre wind trios  /  None\n",
      "991085779789705501 <<Les>> trios d'anches de l'Oiseau-Lyre pour hautbois, clarinette et basson = The Oiseau-Lyre wind trios  /  None\n",
      "991134870599705501 <<Les>> trios d'anches de l'Oiseau-Lyre pour hautbois, clarinette et basson = The Oiseau-Lyre wind trios  /  <<Les>> trios d'anches de l'Oiseau-Lyre\n",
      "991038358519705501 <<Les>> trios d'anches de l'Oiseau-Lyre pour hautbois, clarinette et basson = The Oiseau-Lyre wind trios  /  None\n"
     ]
    }
   ],
   "source": [
    "# With \"=\" we consider \"-\" and \"_\" as whitespaces, all words need to match\n",
    "# With \"==\" the entire string should match\n",
    "# Be sure to check the results afterwards...\n",
    "\n",
    "params = {\n",
    "    'version': '1.2',\n",
    "    'operation': 'searchRetrieve',\n",
    "#    'query': 'alma.title==\"Les trios d\\'anches de l\\'Oiseau-lyre pour hautbois, clarinette et basson = The Oiseau-Lyre wind trios\"', # 2 results\n",
    "#    'query': 'alma.title=\"Les trios d\\'anches de l\\'Oiseau-lyre pour\"', # 2 results\n",
    "#    'query': 'alma.title==\"Les trios d\\'anches de l\\'Oiseau-lyre pour\"', # 0 result\n",
    "#    'query': 'alma.title==\"Les trios d\\'anches de l\\'Oiseau-lyre\"', # 3 result due to 830a\n",
    "    'query': 'alma.title=\"Les trios d\\'anches de l\\'Oiseau-lyre\"', # 10 results\n",
    "    'maximumRecords': '10'\n",
    "}\n",
    "\n",
    "url = 'https://swisscovery.ch/view/sru/41SLSP_NETWORK'\n",
    "\n",
    "r = requests.get(url, params=params)\n",
    "xml = etree.fromstring(r.content, parser=parser)\n",
    "for record in xml.findall('.//marc:record', namespaces=ns):\n",
    "    mms_id = record.findtext('marc:controlfield[@tag=\"001\"]', namespaces=ns)\n",
    "    title = record.findtext('marc:datafield[@tag=\"245\"]/marc:subfield[@code=\"a\"]', namespaces=ns)\n",
    "    parent_title = record.findtext('marc:datafield[@tag=\"830\"]/marc:subfield[@code=\"a\"]', namespaces=ns)\n",
    "    print(mms_id, title, subtitle, ' / ', parent_title)"
   ]
  },
  {
   "cell_type": "code",
   "execution_count": 71,
   "id": "57245a44",
   "metadata": {},
   "outputs": [],
   "source": [
    "params = {\n",
    "    'version': '1.2',\n",
    "    'operation': 'searchRetrieve',\n",
    "    'query': 'alma.other_system_number=\"(swissbib)12675375*\"',\n",
    "    'maximumRecords': '10'\n",
    "}\n",
    "\n",
    "url = 'https://swisscovery.ch/view/sru/41SLSP_NETWORK'\n",
    "\n",
    "r = requests.get(url, params=params)\n",
    "xml = etree.fromstring(r.content, parser=parser)\n",
    "for record in xml.findall('.//marc:record', namespaces=ns):\n",
    "    mms_id = record.findtext('marc:controlfield[@tag=\"001\"]', namespaces=ns)\n",
    "    print(mms_id)"
   ]
  },
  {
   "cell_type": "code",
   "execution_count": 43,
   "id": "1bfddb92",
   "metadata": {},
   "outputs": [
    {
     "name": "stdout",
     "output_type": "stream",
     "text": [
      "<?xml version=\"1.0\" encoding=\"UTF-8\" standalone=\"no\"?><searchRetrieveResponse xmlns=\"http://www.loc.gov/zing/srw/\">\n",
      "  <version>1.2</version>\n",
      "  <numberOfRecords>1</numberOfRecords>\n",
      "  <records>\n",
      "    <record>\n",
      "      <recordSchema>marcxml</recordSchema>\n",
      "      <recordPacking>xml</recordPacking>\n",
      "      <recordData>\n",
      "        <record xmlns=\"http://www.loc.gov/MARC21/slim\">\n",
      "          <leader>01777nam a2200337 c 4500</leader>\n",
      "          <controlfield tag=\"001\">991170638901605501</controlfield>\n",
      "          <controlfield tag=\"005\">20230407143840.0</controlfield>\n",
      "          <controlfield tag=\"008\">200924t20202017fr            00| | fre d</controlfield>\n",
      "          <datafield ind1=\" \" ind2=\" \" tag=\"020\">\n",
      "            <subfield code=\"a\">9782491674007</subfield>\n",
      "          </datafield>\n",
      "          <datafield ind1=\" \" ind2=\" \" tag=\"035\">\n",
      "            <subfield code=\"a\">(swissbib)12675375X-41slsp_network</subfield>\n",
      "          </datafield>\n",
      "          <datafield ind1=\" \" ind2=\" \" tag=\"035\">\n",
      "            <subfield code=\"a\">12675375X</subfield>\n",
      "            <subfield code=\"9\">ExL</subfield>\n",
      "          </datafield>\n",
      "          <datafield ind1=\" \" ind2=\" \" tag=\"035\">\n",
      "            <subfield code=\"a\">(RERO)R009082738-41slsp</subfield>\n",
      "          </datafield>\n",
      "          <datafield ind1=\" \" ind2=\" \" tag=\"040\">\n",
      "            <subfield code=\"a\">Abes</subfield>\n",
      "            <subfield code=\"b\">fre</subfield>\n",
      "            <subfield code=\"d\">CH-ZuSLS</subfield>\n",
      "            <subfield code=\"e\">rda</subfield>\n",
      "          </datafield>\n",
      "          <datafield ind1=\"1\" ind2=\" \" tag=\"041\">\n",
      "            <subfield code=\"a\">fre</subfield>\n",
      "            <subfield code=\"h\">eng</subfield>\n",
      "          </datafield>\n",
      "          <datafield ind1=\"7\" ind2=\"4\" tag=\"082\">\n",
      "            <subfield code=\"a\">004</subfield>\n",
      "            <subfield code=\"2\">23sdnb</subfield>\n",
      "          </datafield>\n",
      "          <datafield ind1=\"1\" ind2=\" \" tag=\"100\">\n",
      "            <subfield code=\"a\">Chollet, François</subfield>\n",
      "            <subfield code=\"d\">1989-....</subfield>\n",
      "            <subfield code=\"0\">(IDREF)223366854</subfield>\n",
      "            <subfield code=\"4\">aut</subfield>\n",
      "          </datafield>\n",
      "          <datafield ind1=\"1\" ind2=\"0\" tag=\"245\">\n",
      "            <subfield code=\"a\">&lt;&lt;L'&gt;&gt;apprentissage profond avec Python</subfield>\n",
      "            <subfield code=\"c\">François Chollet</subfield>\n",
      "          </datafield>\n",
      "          <datafield ind1=\" \" ind2=\"1\" tag=\"264\">\n",
      "            <subfield code=\"a\">Saint-Cyr sur Loire</subfield>\n",
      "            <subfield code=\"b\">Manning, Machinelearning</subfield>\n",
      "            <subfield code=\"c\">2020</subfield>\n",
      "          </datafield>\n",
      "          <datafield ind1=\" \" ind2=\" \" tag=\"300\">\n",
      "            <subfield code=\"a\">487 pages</subfield>\n",
      "            <subfield code=\"b\">illustrations</subfield>\n",
      "          </datafield>\n",
      "          <datafield ind1=\" \" ind2=\" \" tag=\"336\">\n",
      "            <subfield code=\"b\">txt</subfield>\n",
      "            <subfield code=\"2\">rdacontent</subfield>\n",
      "          </datafield>\n",
      "          <datafield ind1=\" \" ind2=\" \" tag=\"337\">\n",
      "            <subfield code=\"b\">n</subfield>\n",
      "            <subfield code=\"2\">rdamedia</subfield>\n",
      "          </datafield>\n",
      "          <datafield ind1=\" \" ind2=\" \" tag=\"338\">\n",
      "            <subfield code=\"b\">nc</subfield>\n",
      "            <subfield code=\"2\">rdacarrier</subfield>\n",
      "          </datafield>\n",
      "          <datafield ind1=\" \" ind2=\" \" tag=\"504\">\n",
      "            <subfield code=\"a\">Index</subfield>\n",
      "          </datafield>\n",
      "          <datafield ind1=\"8\" ind2=\" \" tag=\"520\">\n",
      "            <subfield code=\"a\">\"L'apprentissage automatique a fait des progrès remarquables au cours des dernières années. Nous sommes passés d'une reconnaissance quasi inutilisable de la parole et des images à une précision quasi humaine, de machines qui ne pouvaient pas battre un joueur de Go un peu expérimenté à la défaite d'un champion du monde. Derrière ces progrès se cache l'apprentissage profond ― une combinaison d'avancées théoriques et pratiques qui permet une multitude d'applications intelligentes jusque-là impossibles à réaliser.\" -- 4ème de couverture</subfield>\n",
      "          </datafield>\n",
      "          <datafield ind1=\" \" ind2=\"7\" tag=\"650\">\n",
      "            <subfield code=\"a\">Apprentissage profond</subfield>\n",
      "            <subfield code=\"0\">(IDREF)223540633</subfield>\n",
      "            <subfield code=\"2\">idref</subfield>\n",
      "          </datafield>\n",
      "          <datafield ind1=\" \" ind2=\"7\" tag=\"650\">\n",
      "            <subfield code=\"a\">Apprentissage automatique</subfield>\n",
      "            <subfield code=\"0\">(IDREF)027940373</subfield>\n",
      "            <subfield code=\"2\">idref</subfield>\n",
      "          </datafield>\n",
      "          <datafield ind1=\" \" ind2=\"7\" tag=\"650\">\n",
      "            <subfield code=\"a\">Python (langage de programmation)</subfield>\n",
      "            <subfield code=\"0\">(IDREF)051626225</subfield>\n",
      "            <subfield code=\"2\">idref</subfield>\n",
      "          </datafield>\n",
      "          <datafield ind1=\" \" ind2=\"7\" tag=\"655\">\n",
      "            <subfield code=\"a\">Manuels d'enseignement supérieur</subfield>\n",
      "            <subfield code=\"0\">(IDREF)03020934X</subfield>\n",
      "            <subfield code=\"2\">idref</subfield>\n",
      "          </datafield>\n",
      "          <datafield ind1=\"0\" ind2=\"1\" tag=\"852\">\n",
      "            <subfield code=\"a\">41SLSP_BCUFR</subfield>\n",
      "            <subfield code=\"6\">991000039979705509</subfield>\n",
      "            <subfield code=\"9\">P</subfield>\n",
      "          </datafield>\n",
      "          <datafield ind1=\" \" ind2=\" \" tag=\"900\">\n",
      "            <subfield code=\"a\">REROnoselfmerge</subfield>\n",
      "          </datafield>\n",
      "          <datafield ind1=\" \" ind2=\" \" tag=\"903\">\n",
      "            <subfield code=\"a\">RERO-SIGN</subfield>\n",
      "            <subfield code=\"5\">BCUFR/20210226/pbr</subfield>\n",
      "          </datafield>\n",
      "          <datafield ind1=\" \" ind2=\" \" tag=\"910\">\n",
      "            <subfield code=\"a\">SUDOC</subfield>\n",
      "            <subfield code=\"b\">20200924</subfield>\n",
      "            <subfield code=\"c\">Réutilisation sous conditions: Licence ouverte Etalab</subfield>\n",
      "          </datafield>\n",
      "        </record>\n",
      "      </recordData>\n",
      "      <recordIdentifier>991170638901605501</recordIdentifier>\n",
      "      <recordPosition>1</recordPosition>\n",
      "    </record>\n",
      "  </records>\n",
      "  <extraResponseData xmlns:xb=\"http://www.exlibris.com/repository/search/xmlbeans/\">\n",
      "    <xb:exact>true</xb:exact>\n",
      "    <xb:responseDate>2025-09-01T20:10:59+0200</xb:responseDate>\n",
      "  </extraResponseData>\n",
      "</searchRetrieveResponse>\n"
     ]
    }
   ],
   "source": [
    "params = {\n",
    "    'version': '1.2',\n",
    "    'operation': 'searchRetrieve',\n",
    "    'query': 'alma.other_system_number=\"(RERO)R009082738\"',\n",
    "    'maximumRecords': '1'\n",
    "}\n",
    "\n",
    "url = 'https://swisscovery.ch/view/sru/41SLSP_NETWORK'\n",
    "\n",
    "r = requests.get(url, params=params)\n",
    "print(r.text)"
   ]
  },
  {
   "cell_type": "markdown",
   "id": "fa9f3d89",
   "metadata": {},
   "source": [
    "## CQL limitations\n",
    "In Alma, \"not\" boolean is not supported. In some indexes we can use \"<>\" instead of \"not\"."
   ]
  }
 ],
 "metadata": {
  "kernelspec": {
   "display_name": "Python 3 (ipykernel)",
   "language": "python",
   "name": "python3"
  },
  "language_info": {
   "codemirror_mode": {
    "name": "ipython",
    "version": 3
   },
   "file_extension": ".py",
   "mimetype": "text/x-python",
   "name": "python",
   "nbconvert_exporter": "python",
   "pygments_lexer": "ipython3",
   "version": "3.9.7"
  }
 },
 "nbformat": 4,
 "nbformat_minor": 5
}

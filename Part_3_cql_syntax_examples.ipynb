{
 "cells": [
  {
   "cell_type": "markdown",
   "id": "11308d82",
   "metadata": {},
   "source": [
    "# Part 3: CQL syntax - examples\n",
    "### Goals\n",
    "* To create more complex CQL queries\n",
    "* To understand how to make some specific queries in Alma\n",
    "    * Search by library\n",
    "    * Search for inventory in institution\n",
    "    * Special operators\n",
    "    * CQL limitations\n",
    "   \n",
    "### How to use SRU\n",
    "#### SRU servers\n",
    "* https://swisscovery.slsp.ch/view/sru/41SLSP_NETWORK?version=1.2&operation=explain\n",
    "* https://renouvaud.primo.exlibrisgroup.com/view/sru/41BCULAUSA_NETWORK?version=1.2&operation=explain\n",
    "* https://www.sudoc.abes.fr/cbs/sru/?operation=explain&version=1.1\n",
    "\n",
    "#### Documentation\n",
    "* https://slsp.ch/fr/metadonnees/\n",
    "* https://developers.exlibrisgroup.com/alma/integrations/sru/\n",
    "* https://knowledge.exlibrisgroup.com/Alma/Product_Documentation/Alma_Online_Help_(Francais)/130Int%C3%A9grations_avec_des_syst%C3%A8mes_externes/030Gestion_des_ressources/170Recherche_SRU%2F%2FSRW\n",
    "* https://abes.fr/wp-content/uploads/2023/05/guide-utilisation-service-sru-catalogue-sudoc.pdf"
   ]
  },
  {
   "cell_type": "code",
   "execution_count": null,
   "id": "fe033789",
   "metadata": {},
   "outputs": [],
   "source": [
    "import requests\n",
    "from lxml import etree\n",
    "\n",
    "parser = etree.XMLParser(remove_blank_text=True, remove_comments=True, ns_clean=True)\n",
    "\n",
    "ns = {\n",
    "    \"srw\": \"http://www.loc.gov/zing/srw/\",\n",
    "    \"marc\": \"http://www.loc.gov/MARC21/slim\"\n",
    "}"
   ]
  },
  {
   "cell_type": "markdown",
   "id": "0a3975c8",
   "metadata": {},
   "source": [
    "## Search by library\n",
    "To search directly in holdings of the libraries, we need to use an SRU server at the IZ level.\n",
    "\n",
    "Code of the libraries cannot be used in SRU, we need the ID of the library. We can see it in html of Primo or in response of API responses about library information."
   ]
  },
  {
   "cell_type": "code",
   "execution_count": null,
   "id": "f122ad86",
   "metadata": {},
   "outputs": [],
   "source": [
    "params = {\n",
    "    'version': '1.2',\n",
    "    'operation': 'searchRetrieve',\n",
    "    'query': 'alma.holding_Library=112062990005504 and alma.title=Arbre',\n",
    "    'maximumRecords': '10'\n",
    "}\n",
    "\n",
    "url = 'https://swisscovery.ch/view/sru/41SLSP_UBS'\n",
    "\n",
    "r = requests.get(url, params=params)\n",
    "xml = etree.fromstring(r.content, parser=parser)"
   ]
  },
  {
   "cell_type": "code",
   "execution_count": null,
   "id": "b0310b84",
   "metadata": {},
   "outputs": [],
   "source": [
    "for record in xml.findall('.//marc:record', namespaces=ns):\n",
    "    print('MMS ID: ', record.findtext('marc:controlfield[@tag=\"001\"]', namespaces=ns))\n",
    "    for ava_f in record.findall('.//marc:datafield[@tag=\"AVA\"]', namespaces=ns):\n",
    "        print('\\t', ava_f.findtext('marc:subfield[@code=\"q\"]', namespaces=ns), ' - ', ava_f.findtext('marc:subfield[@code=\"e\"]', namespaces=ns))"
   ]
  },
  {
   "cell_type": "code",
   "execution_count": null,
   "id": "b8b7117f",
   "metadata": {},
   "outputs": [],
   "source": [
    "print(etree.tostring(ava_f, pretty_print=True, encoding='unicode'))"
   ]
  },
  {
   "cell_type": "markdown",
   "id": "4d111bcc",
   "metadata": {},
   "source": [
    "## Search for inventory in institutions\n",
    "\n",
    "We use the network SRU server. Holdings of the institutions are present in the 852 datafield."
   ]
  },
  {
   "cell_type": "code",
   "execution_count": null,
   "id": "7501cfdf",
   "metadata": {},
   "outputs": [],
   "source": [
    "params = {\n",
    "    'version': '1.2',\n",
    "    'operation': 'searchRetrieve',\n",
    "    'query': 'alma.title=Arbre',\n",
    "    'maximumRecords': '20'\n",
    "}\n",
    "\n",
    "url = 'https://swisscovery.ch/view/sru/41SLSP_NETWORK'\n",
    "\n",
    "r = requests.get(url, params=params)\n",
    "xml = etree.fromstring(r.content, parser=parser)"
   ]
  },
  {
   "cell_type": "code",
   "execution_count": null,
   "id": "8c3c9ca1",
   "metadata": {},
   "outputs": [],
   "source": [
    "for record in xml.findall('.//marc:record', namespaces=ns):\n",
    "    mms_id = record.findtext('marc:controlfield[@tag=\"001\"]', namespaces=ns)\n",
    "    izs = []\n",
    "    for f852 in record.findall('.//marc:datafield[@tag=\"852\"]', namespaces=ns):\n",
    "        \n",
    "        iz = f852.findtext('marc:subfield[@code=\"a\"]', namespaces=ns)\n",
    "        if iz is not None:\n",
    "            izs.append(iz)\n",
    "    if len(izs) > 0:\n",
    "        print(f'{mms_id}: {\", \".join(izs)}')\n",
    "    else:\n",
    "        print(f'{mms_id}: IN NETWORK ONLY')"
   ]
  },
  {
   "cell_type": "code",
   "execution_count": null,
   "id": "3cd6f06f",
   "metadata": {},
   "outputs": [],
   "source": [
    "print(etree.tostring(f852, pretty_print=True, encoding='unicode'))"
   ]
  },
  {
   "cell_type": "markdown",
   "id": "fed82779",
   "metadata": {},
   "source": [
    "## Special syntax\n",
    "* We need to use `==` when the item to search contains `-` or `_`, it means exact match\n",
    "* We need to use `\"\"` when item to search contains `<`, `>`, `=`, `/`, `(`, `)` and whitespace\n",
    "* Indexes can cover more than one field"
   ]
  },
  {
   "cell_type": "code",
   "execution_count": null,
   "id": "89e3c5c8",
   "metadata": {},
   "outputs": [],
   "source": [
    "# With \"=\" we consider \"-\" and \"_\" as whitespaces, all words need to match\n",
    "# With \"==\" the entire string should match\n",
    "# Be sure to check the results afterwards...\n",
    "\n",
    "params = {\n",
    "    'version': '1.2',\n",
    "    'operation': 'searchRetrieve',\n",
    "#    'query': 'alma.title==\"Les trios d\\'anches de l\\'Oiseau-lyre pour hautbois, clarinette et basson = The Oiseau-Lyre wind trios\"', # 2 results\n",
    "#    'query': 'alma.title=\"Les trios d\\'anches de l\\'Oiseau-lyre pour\"', # 2 results\n",
    "#    'query': 'alma.title==\"Les trios d\\'anches de l\\'Oiseau-lyre pour\"', # 0 result\n",
    "#    'query': 'alma.title==\"Les trios d\\'anches de l\\'Oiseau-lyre\"', # 3 result due to 830a\n",
    "    'query': 'alma.title=\"Les trios d\\'anches de l\\'Oiseau-lyre\"', # 10 results\n",
    "    'maximumRecords': '10'\n",
    "}\n",
    "\n",
    "url = 'https://swisscovery.ch/view/sru/41SLSP_NETWORK'\n",
    "\n",
    "r = requests.get(url, params=params)\n",
    "xml = etree.fromstring(r.content, parser=parser)\n",
    "for record in xml.findall('.//marc:record', namespaces=ns):\n",
    "    mms_id = record.findtext('marc:controlfield[@tag=\"001\"]', namespaces=ns)\n",
    "    title = record.findtext('marc:datafield[@tag=\"245\"]/marc:subfield[@code=\"a\"]', namespaces=ns)\n",
    "    parent_title = record.findtext('marc:datafield[@tag=\"830\"]/marc:subfield[@code=\"a\"]', namespaces=ns)\n",
    "    print(mms_id, title, ' / ', parent_title)"
   ]
  },
  {
   "cell_type": "code",
   "execution_count": null,
   "id": "57245a44",
   "metadata": {},
   "outputs": [],
   "source": [
    "params = {\n",
    "    'version': '1.2',\n",
    "    'operation': 'searchRetrieve',\n",
    "    'query': 'alma.other_system_number=\"(swissbib)12675375*\"',\n",
    "    'maximumRecords': '10'\n",
    "}\n",
    "\n",
    "url = 'https://swisscovery.ch/view/sru/41SLSP_NETWORK'\n",
    "\n",
    "r = requests.get(url, params=params)\n",
    "xml = etree.fromstring(r.content, parser=parser)\n",
    "for record in xml.findall('.//marc:record', namespaces=ns):\n",
    "    mms_id = record.findtext('marc:controlfield[@tag=\"001\"]', namespaces=ns)\n",
    "    print(mms_id)"
   ]
  },
  {
   "cell_type": "code",
   "execution_count": null,
   "id": "1bfddb92",
   "metadata": {},
   "outputs": [],
   "source": [
    "params = {\n",
    "    'version': '1.2',\n",
    "    'operation': 'searchRetrieve',\n",
    "    'query': 'alma.other_system_number=\"(RERO)R009082738\"',\n",
    "    'maximumRecords': '1'\n",
    "}\n",
    "\n",
    "url = 'https://swisscovery.ch/view/sru/41SLSP_NETWORK'\n",
    "\n",
    "r = requests.get(url, params=params)\n",
    "print(r.text)"
   ]
  },
  {
   "cell_type": "markdown",
   "id": "fa9f3d89",
   "metadata": {},
   "source": [
    "## CQL limitations\n",
    "In Alma, \"not\" boolean is not supported. In some indexes we can use \"<>\" instead of \"not\"."
   ]
  },
  {
   "cell_type": "code",
   "execution_count": null,
   "id": "aa761082-d468-4de0-889f-2ec4939de83b",
   "metadata": {},
   "outputs": [],
   "source": []
  }
 ],
 "metadata": {
  "kernelspec": {
   "display_name": "Python 3 (ipykernel)",
   "language": "python",
   "name": "python3"
  },
  "language_info": {
   "codemirror_mode": {
    "name": "ipython",
    "version": 3
   },
   "file_extension": ".py",
   "mimetype": "text/x-python",
   "name": "python",
   "nbconvert_exporter": "python",
   "pygments_lexer": "ipython3",
   "version": "3.13.7"
  }
 },
 "nbformat": 4,
 "nbformat_minor": 5
}

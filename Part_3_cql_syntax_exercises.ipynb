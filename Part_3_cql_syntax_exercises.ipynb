{
 "cells": [
  {
   "cell_type": "markdown",
   "id": "11308d82",
   "metadata": {},
   "source": [
    "# Part 3: CQL syntax - exercises\n",
    "### Goals\n",
    "* To create more complex CQL queries\n",
    "* To understand how to make some specific queries in Alma\n",
    "    * Search by library\n",
    "    * Search for inventory in institution\n",
    "    * Special operator \"==\"\n",
    "    * CQL limitations\n",
    "   \n",
    "### How to use SRU\n",
    "#### SRU servers\n",
    "* https://swisscovery.slsp.ch/view/sru/41SLSP_NETWORK?version=1.2&operation=explain\n",
    "* https://renouvaud.primo.exlibrisgroup.com/view/sru/41BCULAUSA_NETWORK?version=1.2&operation=explain\n",
    "* https://www.sudoc.abes.fr/cbs/sru/?operation=explain&version=1.1\n",
    "\n",
    "#### Documentation\n",
    "* https://slsp.ch/fr/metadonnees/\n",
    "* https://developers.exlibrisgroup.com/alma/integrations/sru/\n",
    "* https://knowledge.exlibrisgroup.com/Alma/Product_Documentation/Alma_Online_Help_(Francais)/130Int%C3%A9grations_avec_des_syst%C3%A8mes_externes/030Gestion_des_ressources/170Recherche_SRU%2F%2FSRW\n",
    "* https://abes.fr/wp-content/uploads/2023/05/guide-utilisation-service-sru-catalogue-sudoc.pdf"
   ]
  },
  {
   "cell_type": "code",
   "execution_count": 1,
   "id": "5b75ecb4",
   "metadata": {},
   "outputs": [],
   "source": [
    "import requests\n",
    "from lxml import etree\n",
    "\n",
    "parser = etree.XMLParser(remove_blank_text=True, remove_comments=True, ns_clean=True)\n",
    "\n",
    "ns = {\n",
    "    \"srw\": \"http://www.loc.gov/zing/srw/\",\n",
    "    \"marc\": \"http://www.loc.gov/MARC21/slim\"\n",
    "}"
   ]
  },
  {
   "cell_type": "code",
   "execution_count": 2,
   "id": "0ea1943f",
   "metadata": {},
   "outputs": [
    {
     "name": "stdout",
     "output_type": "stream",
     "text": [
      "MMS ID:  9961001430105504\n",
      "\t Münchenstein – Bibliothek für Gestaltung Basel  -  available\n",
      "MMS ID:  9951928380105504\n",
      "\t Münchenstein – Bibliothek für Gestaltung Basel  -  available\n",
      "MMS ID:  9941040010105504\n",
      "\t Münchenstein – Bibliothek für Gestaltung Basel  -  available\n",
      "MMS ID:  9910722950105504\n",
      "\t Münchenstein – Bibliothek für Gestaltung Basel  -  available\n",
      "MMS ID:  9967690830105504\n",
      "\t Münchenstein – Bibliothek für Gestaltung Basel  -  available\n",
      "MMS ID:  993360990105504\n",
      "\t Münchenstein – Bibliothek für Gestaltung Basel  -  available\n",
      "\t Basel - Staatsarchiv Basel-Stadt  -  available\n",
      "\t Basel - UB Hauptbibliothek  -  available\n",
      "\t Münchenstein – Bibliothek für Gestaltung Basel  -  available\n",
      "\t Basel - UB Hauptbibliothek  -  unavailable\n"
     ]
    }
   ],
   "source": [
    "# Example of code\n",
    "\n",
    "params = {\n",
    "    'version': '1.2',\n",
    "    'operation': 'searchRetrieve',\n",
    "    'query': 'alma.holding_Library=112062990005504 and alma.title=Arbre',\n",
    "    'maximumRecords': '10'\n",
    "}\n",
    "\n",
    "url = 'https://swisscovery.ch/view/sru/41SLSP_UBS'\n",
    "\n",
    "r = requests.get(url, params=params)\n",
    "xml = etree.fromstring(r.content, parser=parser)\n",
    "\n",
    "for record in xml.findall('.//marc:record', namespaces=ns):\n",
    "    print('MMS ID: ', record.findtext('marc:controlfield[@tag=\"001\"]', namespaces=ns))\n",
    "    for ava_f in record.findall('.//marc:datafield[@tag=\"AVA\"]', namespaces=ns):\n",
    "        print('\\t', ava_f.findtext('marc:subfield[@code=\"q\"]', namespaces=ns), ' - ', ava_f.findtext('marc:subfield[@code=\"e\"]', namespaces=ns))"
   ]
  },
  {
   "cell_type": "markdown",
   "id": "0a3975c8",
   "metadata": {},
   "source": [
    "### Some more advanced queries\n",
    "* Find one library that has a volume of this journal (0022-2909)?\n",
    "    1. Find one IZ, that has the title\n",
    "    2. Find then one library in this IZ\n",
    "* Find some analytical records of this journal (check 773w with \"(IDSBB)000010912DSV01\" number) - check Alma indexes to find the related index"
   ]
  },
  {
   "cell_type": "code",
   "execution_count": null,
   "id": "98815cac",
   "metadata": {},
   "outputs": [],
   "source": []
  }
 ],
 "metadata": {
  "kernelspec": {
   "display_name": "Python 3 (ipykernel)",
   "language": "python",
   "name": "python3"
  },
  "language_info": {
   "codemirror_mode": {
    "name": "ipython",
    "version": 3
   },
   "file_extension": ".py",
   "mimetype": "text/x-python",
   "name": "python",
   "nbconvert_exporter": "python",
   "pygments_lexer": "ipython3",
   "version": "3.9.7"
  }
 },
 "nbformat": 4,
 "nbformat_minor": 5
}

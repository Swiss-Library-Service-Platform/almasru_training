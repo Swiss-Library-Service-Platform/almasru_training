{
 "cells": [
  {
   "cell_type": "markdown",
   "id": "59ef4e45",
   "metadata": {},
   "source": [
    "# Part 4: Almasru - exercises\n",
    "### Goals\n",
    "* Learn to use Almasru library\n",
    "\n",
    "### Short description\n",
    "Almasru is a python library used to fetch easily records from SRU server. The system contains a lot of tools to find related records. The system make a backup of all requests. Unless you delete the history it will keep the results in memory.\n",
    "\n",
    "The deduplication system is however not maintened anymore. Recommendation is to use the dedupmarcxml library: https://dedupmarcxml.readthedocs.io\n",
    "\n",
    "### Documentation\n",
    "* https://almasru.readthedocs.io\n",
    "* https://github.com/Swiss-Library-Service-Platform/almasru"
   ]
  },
  {
   "cell_type": "code",
   "execution_count": 2,
   "id": "dd57f1f2",
   "metadata": {},
   "outputs": [],
   "source": [
    "# Import libraries\n",
    "from almasru.client import SruClient, SruRecord, IzSruRecord, SruRequest\n",
    "from almasru.utils import check_removable_records, analyse_records\n",
    "# from almasru import dedup\n",
    "# from almasru.briefrecord import BriefRecFactory, BriefRec\n",
    "from almasru import config_log\n",
    "\n",
    "# Config logs\n",
    "config_log()"
   ]
  },
  {
   "cell_type": "code",
   "execution_count": 4,
   "id": "475ffb20",
   "metadata": {},
   "outputs": [
    {
     "name": "stdout",
     "output_type": "stream",
     "text": [
      "<record xmlns=\"http://www.loc.gov/MARC21/slim\">\n",
      "  <leader>00698naa a22001812c 4500</leader>\n",
      "  <controlfield tag=\"001\">991042095849705501</controlfield>\n",
      "  <controlfield tag=\"005\">20241004194331.0</controlfield>\n",
      "  <controlfield tag=\"008\">991211s1979    xxk           00| | eng d</controlfield>\n",
      "  <datafield ind1=\" \" ind2=\" \" tag=\"035\">\n",
      "    <subfield code=\"a\">(swissbib)032274408-41slsp_network</subfield>\n",
      "  </datafield>\n",
      "  <datafield ind1=\" \" ind2=\" \" tag=\"035\">\n",
      "    <subfield code=\"a\">032274408</subfield>\n",
      "    <subfield code=\"9\">ExL</subfield>\n",
      "  </datafield>\n",
      "  <datafield ind1=\" \" ind2=\" \" tag=\"035\">\n",
      "    <subfield code=\"a\">(IDSBB)001963059DSV01</subfield>\n",
      "  </datafield>\n",
      "  <datafield ind1=\" \" ind2=\" \" tag=\"040\">\n",
      "    <subfield code=\"a\">SzZuIDS BS/BE A164</subfield>\n",
      "    <subfield code=\"b\">ger</subfield>\n",
      "    <subfield code=\"e\">kids</subfield>\n",
      "    <subfield code=\"d\">CH-ZuSLS</subfield>\n",
      "  </datafield>\n",
      "  <datafield ind1=\"1\" ind2=\" \" tag=\"100\">\n",
      "    <subfield code=\"a\">Chrisman, Richard</subfield>\n",
      "  </datafield>\n",
      "  <datafield ind1=\"1\" ind2=\"0\" tag=\"245\">\n",
      "    <subfield code=\"a\">Anton Webern's \"Six bagatelles for string quartet\" op. 9: the unfolding of intervallic successions</subfield>\n",
      "    <subfield code=\"c\">Richard Chrisman</subfield>\n",
      "  </datafield>\n",
      "  <datafield ind1=\" \" ind2=\" \" tag=\"336\">\n",
      "    <subfield code=\"b\">txt</subfield>\n",
      "    <subfield code=\"2\">rdacontent</subfield>\n",
      "  </datafield>\n",
      "  <datafield ind1=\" \" ind2=\" \" tag=\"337\">\n",
      "    <subfield code=\"b\">n</subfield>\n",
      "    <subfield code=\"2\">rdamedia</subfield>\n",
      "  </datafield>\n",
      "  <datafield ind1=\" \" ind2=\" \" tag=\"338\">\n",
      "    <subfield code=\"b\">nc</subfield>\n",
      "    <subfield code=\"2\">rdacarrier</subfield>\n",
      "  </datafield>\n",
      "  <datafield ind1=\"0\" ind2=\" \" tag=\"773\">\n",
      "    <subfield code=\"t\">Journal of music theory</subfield>\n",
      "    <subfield code=\"d\">New Haven (Conn.). -</subfield>\n",
      "    <subfield code=\"g\">Vol.23 (1979), no.1, S.81-122</subfield>\n",
      "    <subfield code=\"q\">23/1/81</subfield>\n",
      "    <subfield code=\"w\">(IDSBB)000010912DSV01</subfield>\n",
      "  </datafield>\n",
      "  <datafield ind1=\"0\" ind2=\"1\" tag=\"852\">\n",
      "    <subfield code=\"a\">41SLSP_UBS</subfield>\n",
      "    <subfield code=\"6\">9919630590105504</subfield>\n",
      "    <subfield code=\"9\">P</subfield>\n",
      "  </datafield>\n",
      "</record>\n",
      "\n"
     ]
    }
   ],
   "source": [
    "# Fetch one record in NZ\n",
    "SruClient.set_base_url('https://swisscovery.ch/view/sru/41SLSP_NETWORK')\n",
    "record = SruRecord('991042095849705501')\n",
    "print(record)"
   ]
  },
  {
   "cell_type": "code",
   "execution_count": 6,
   "id": "d3df73a0",
   "metadata": {},
   "outputs": [
    {
     "name": "stdout",
     "output_type": "stream",
     "text": [
      "2025-09-02 00:49:01,711 - INFO - SRU data fetched: https://swisscovery.ch/view/sru/41SLSP_NETWORK?query=alma.other_system_number_active_035%3D%28IDSBB%29000010912DSV01&version=1.2&operation=searchRetrieve&startRecord=1&maximumRecords=50\n",
      "2025-09-02 00:49:01,718 - INFO - Records 1 - 1 / 1, \"alma.other_system_number_active_035=(IDSBB)000010912DSV01\": 1\n"
     ]
    }
   ],
   "source": [
    "parent_rec = record.get_parent_rec()"
   ]
  },
  {
   "cell_type": "markdown",
   "id": "475178c8",
   "metadata": {},
   "source": [
    "### Some tasks with Almasru\n",
    "* Find documents with empty isbn and \"python\" in the title\n",
    "* Get all IZ records of books with ISBN \"9783960091691\" "
   ]
  },
  {
   "cell_type": "code",
   "execution_count": null,
   "id": "0aef0480",
   "metadata": {},
   "outputs": [],
   "source": []
  }
 ],
 "metadata": {
  "kernelspec": {
   "display_name": "Python 3 (ipykernel)",
   "language": "python",
   "name": "python3"
  },
  "language_info": {
   "codemirror_mode": {
    "name": "ipython",
    "version": 3
   },
   "file_extension": ".py",
   "mimetype": "text/x-python",
   "name": "python",
   "nbconvert_exporter": "python",
   "pygments_lexer": "ipython3",
   "version": "3.9.7"
  }
 },
 "nbformat": 4,
 "nbformat_minor": 5
}

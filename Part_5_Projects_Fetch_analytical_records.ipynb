{
 "cells": [
  {
   "cell_type": "markdown",
   "id": "1a6213cc",
   "metadata": {},
   "source": [
    "# Part 5: projects - Fetch analytical records\n",
    "\n",
    "### Context\n",
    "Analytical records (linked with the 773w field) are difficult to find. In Alma, the \"related records\" button can be used to find analytical records. However, there is no effective way to extract a list of analytical records from a given MMS ID.\n",
    "\n",
    "### To do\n",
    "Almasru `SruRecord` objects have a method `get_child_analytical_records`. Try to find analytical of RZH '990009912310205526' record. Do the same at network zone level and compare the results. Use `get_nz_mms_id` to get the network MMS ID from an IZ record.\n",
    "\n",
    "### Result\n",
    "Two list of MMS IDs, on of MMS IDs ending with `5526` (RZH IZ) and one with `5501` (Network zone)\n",
    "\n",
    "\n",
    "### Difficulty level\n",
    "Medium"
   ]
  },
  {
   "cell_type": "code",
   "execution_count": 15,
   "id": "2f12bd9c",
   "metadata": {},
   "outputs": [],
   "source": [
    "iz_mms_id = '990009912310205526'"
   ]
  },
  {
   "cell_type": "code",
   "execution_count": null,
   "id": "9b8c7cdc",
   "metadata": {},
   "outputs": [],
   "source": []
  }
 ],
 "metadata": {
  "kernelspec": {
   "display_name": "Python 3 (ipykernel)",
   "language": "python",
   "name": "python3"
  },
  "language_info": {
   "codemirror_mode": {
    "name": "ipython",
    "version": 3
   },
   "file_extension": ".py",
   "mimetype": "text/x-python",
   "name": "python",
   "nbconvert_exporter": "python",
   "pygments_lexer": "ipython3",
   "version": "3.9.7"
  }
 },
 "nbformat": 4,
 "nbformat_minor": 5
}

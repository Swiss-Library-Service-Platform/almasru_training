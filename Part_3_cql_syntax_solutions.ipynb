{
 "cells": [
  {
   "cell_type": "markdown",
   "id": "11308d82",
   "metadata": {},
   "source": [
    "# Part 3: CQL syntax - exercises\n",
    "### Goals\n",
    "* To create more complex CQL queries\n",
    "* To understand how to make some specific queries in Alma\n",
    "    * Search by library\n",
    "    * Search for inventory in institution\n",
    "    * Special operator \"==\"\n",
    "    * CQL limitations\n",
    "   \n",
    "### How to use SRU\n",
    "#### SRU servers\n",
    "* https://swisscovery.slsp.ch/view/sru/41SLSP_NETWORK?version=1.2&operation=explain\n",
    "* https://renouvaud.primo.exlibrisgroup.com/view/sru/41BCULAUSA_NETWORK?version=1.2&operation=explain\n",
    "* https://www.sudoc.abes.fr/cbs/sru/?operation=explain&version=1.1\n",
    "\n",
    "#### Documentation\n",
    "* https://slsp.ch/fr/metadonnees/\n",
    "* https://developers.exlibrisgroup.com/alma/integrations/sru/\n",
    "* https://knowledge.exlibrisgroup.com/Alma/Product_Documentation/010Alma_Online_Help_(English)/Metadata_Management/180Search_Indexes/051MARC_21_Bibliographic_All_Titles_Search\n",
    "* https://knowledge.exlibrisgroup.com/Alma/Product_Documentation/Alma_Online_Help_(Francais)/130Int%C3%A9grations_avec_des_syst%C3%A8mes_externes/030Gestion_des_ressources/170Recherche_SRU%2F%2FSRW\n",
    "* https://abes.fr/wp-content/uploads/2023/05/guide-utilisation-service-sru-catalogue-sudoc.pdf"
   ]
  },
  {
   "cell_type": "code",
   "execution_count": 3,
   "id": "0f3c03a7",
   "metadata": {},
   "outputs": [],
   "source": [
    "import requests\n",
    "from lxml import etree\n",
    "\n",
    "parser = etree.XMLParser(remove_blank_text=True, remove_comments=True, ns_clean=True)\n",
    "\n",
    "ns = {\n",
    "    \"srw\": \"http://www.loc.gov/zing/srw/\",\n",
    "    \"marc\": \"http://www.loc.gov/MARC21/slim\"\n",
    "}"
   ]
  },
  {
   "cell_type": "code",
   "execution_count": 4,
   "id": "3805e1e5",
   "metadata": {},
   "outputs": [
    {
     "name": "stdout",
     "output_type": "stream",
     "text": [
      "MMS ID:  9961001430105504\n",
      "\t Münchenstein – Bibliothek für Gestaltung Basel  -  available\n",
      "MMS ID:  9951928380105504\n",
      "\t Münchenstein – Bibliothek für Gestaltung Basel  -  available\n",
      "MMS ID:  9941040010105504\n",
      "\t Münchenstein – Bibliothek für Gestaltung Basel  -  available\n",
      "MMS ID:  9910722950105504\n",
      "\t Münchenstein – Bibliothek für Gestaltung Basel  -  available\n",
      "MMS ID:  9967690830105504\n",
      "\t Münchenstein – Bibliothek für Gestaltung Basel  -  available\n",
      "MMS ID:  993360990105504\n",
      "\t Münchenstein – Bibliothek für Gestaltung Basel  -  available\n",
      "\t Basel - Staatsarchiv Basel-Stadt  -  available\n",
      "\t Basel - UB Hauptbibliothek  -  available\n",
      "\t Münchenstein – Bibliothek für Gestaltung Basel  -  available\n",
      "\t Basel - UB Hauptbibliothek  -  unavailable\n"
     ]
    }
   ],
   "source": [
    "# Example of code\n",
    "\n",
    "params = {\n",
    "    'version': '1.2',\n",
    "    'operation': 'searchRetrieve',\n",
    "    'query': 'alma.holding_Library=112062990005504 and alma.title=Arbre',\n",
    "    'maximumRecords': '10'\n",
    "}\n",
    "\n",
    "url = 'https://swisscovery.ch/view/sru/41SLSP_UBS'\n",
    "\n",
    "r = requests.get(url, params=params)\n",
    "xml = etree.fromstring(r.content, parser=parser)\n",
    "\n",
    "for record in xml.findall('.//marc:record', namespaces=ns):\n",
    "    print('MMS ID: ', record.findtext('marc:controlfield[@tag=\"001\"]', namespaces=ns))\n",
    "    for ava_f in record.findall('.//marc:datafield[@tag=\"AVA\"]', namespaces=ns):\n",
    "        print('\\t', ava_f.findtext('marc:subfield[@code=\"q\"]', namespaces=ns), ' - ', ava_f.findtext('marc:subfield[@code=\"e\"]', namespaces=ns))"
   ]
  },
  {
   "cell_type": "markdown",
   "id": "0a3975c8",
   "metadata": {},
   "source": [
    "### Some more advanced queries\n",
    "* Find one library that has a volume of this journal (0022-2909)?\n",
    "    1. Find one IZ, that has the title\n",
    "    2. Find then one library in this IZ\n",
    "* Find some analytical records of this journal (check 773w) - check Alma indexes"
   ]
  },
  {
   "cell_type": "code",
   "execution_count": 22,
   "id": "98815cac",
   "metadata": {},
   "outputs": [
    {
     "data": {
      "text/plain": [
       "2"
      ]
     },
     "execution_count": 22,
     "metadata": {},
     "output_type": "execute_result"
    }
   ],
   "source": [
    "# Find one library that has a volume of this journal: 022-2909\n",
    "\n",
    "params = {\n",
    "    'version': '1.2',\n",
    "    'operation': 'searchRetrieve',\n",
    "    'query': 'alma.issn=0022-2909',\n",
    "    'maximumRecords': '10'\n",
    "}\n",
    "\n",
    "url = 'https://swisscovery.ch/view/sru/41SLSP_NETWORK'\n",
    "\n",
    "r = requests.get(url, params=params)\n",
    "xml = etree.fromstring(r.content, parser=parser)\n",
    "\n",
    "records = xml.findall('.//marc:record', namespaces=ns)\n",
    "len(records)"
   ]
  },
  {
   "cell_type": "code",
   "execution_count": 23,
   "id": "1075e941",
   "metadata": {},
   "outputs": [
    {
     "name": "stdout",
     "output_type": "stream",
     "text": [
      "['0022-2909', '1941-7497']\n",
      "['1941-7497']\n"
     ]
    }
   ],
   "source": [
    "for record in records:\n",
    "    print([f022.text for f022 in record.findall('.//marc:datafield[@tag=\"022\"]/marc:subfield[@code=\"a\"]', namespaces=ns)])"
   ]
  },
  {
   "cell_type": "code",
   "execution_count": 25,
   "id": "a213a477",
   "metadata": {},
   "outputs": [
    {
     "name": "stdout",
     "output_type": "stream",
     "text": [
      "41SLSP_UZB P\n",
      "41SLSP_SBK P\n",
      "41SLSP_BCUFR P\n",
      "41SLSP_UBS P\n",
      "41SLSP_HSG E\n",
      "41SLSP_HPH E\n",
      "41SLSP_RZH E\n",
      "41SLSP_PHZ E\n",
      "41SLSP_UZB E\n",
      "41SLSP_ZHK E\n",
      "41SLSP_RZS E\n",
      "41SLSP_USI E\n",
      "41SLSP_BFH E\n",
      "41SLSP_IID E\n",
      "41SLSP_UBS E\n",
      "41SLSP_ZAW E\n",
      "41SLSP_UGE E\n",
      "41SLSP_FHO E\n",
      "41SLSP_UNE E\n",
      "41SLSP_FNW E\n",
      "41SLSP_SUP E\n",
      "41SLSP_ETH E\n",
      "41SLSP_UBE E\n",
      "41SLSP_BCUFR E\n",
      "41SLSP_EPF E\n",
      "41SLSP_VGE E\n",
      "41SLSP_HES E\n"
     ]
    }
   ],
   "source": [
    "for f852 in xml.findall('.//marc:datafield[@tag=\"852\"]', namespaces=ns):\n",
    "    print(f852.findtext('marc:subfield[@code=\"a\"]', namespaces=ns), f852.findtext('marc:subfield[@code=\"9\"]', namespaces=ns))"
   ]
  },
  {
   "cell_type": "code",
   "execution_count": 29,
   "id": "93048baf",
   "metadata": {},
   "outputs": [
    {
     "data": {
      "text/plain": [
       "2"
      ]
     },
     "execution_count": 29,
     "metadata": {},
     "output_type": "execute_result"
    }
   ],
   "source": [
    "# We take for example 41SLSP_BCUFR\n",
    "\n",
    "params = {\n",
    "    'version': '1.2',\n",
    "    'operation': 'searchRetrieve',\n",
    "    'query': 'alma.issn=0022-2909',\n",
    "    'maximumRecords': '10'\n",
    "}\n",
    "\n",
    "url = 'https://swisscovery.ch/view/sru/41SLSP_BCUFR'\n",
    "\n",
    "r = requests.get(url, params=params)\n",
    "xml = etree.fromstring(r.content, parser=parser)\n",
    "\n",
    "records = xml.findall('.//marc:record', namespaces=ns)\n",
    "len(records)"
   ]
  },
  {
   "cell_type": "code",
   "execution_count": 33,
   "id": "fd4966d1",
   "metadata": {},
   "outputs": [
    {
     "name": "stdout",
     "output_type": "stream",
     "text": [
      "BCUF_BCU\n"
     ]
    }
   ],
   "source": [
    "# Print version\n",
    "for ava_f in xml.findall('.//marc:datafield[@tag=\"AVA\"]/marc:subfield[@code=\"b\"]', namespaces=ns):\n",
    "    print(ava_f.text)\n",
    "\n",
    "# Code of one library is \"BCUF_BCU\""
   ]
  },
  {
   "cell_type": "code",
   "execution_count": 38,
   "id": "edb016e3",
   "metadata": {},
   "outputs": [
    {
     "name": "stdout",
     "output_type": "stream",
     "text": [
      "JSTOR Archival Journals and Primary Sources Collection\n",
      "Mirabel Libre accès\n"
     ]
    }
   ],
   "source": [
    "# Online version\n",
    "# m subfield contains the collection name\n",
    "for ava_f in xml.findall('.//marc:datafield[@tag=\"AVE\"]/marc:subfield[@code=\"m\"]', namespaces=ns):\n",
    "    print(ava_f.text)"
   ]
  },
  {
   "cell_type": "code",
   "execution_count": 43,
   "id": "1332f26c",
   "metadata": {},
   "outputs": [
    {
     "data": {
      "text/plain": [
       "50"
      ]
     },
     "execution_count": 43,
     "metadata": {},
     "output_type": "execute_result"
    }
   ],
   "source": [
    "# Find some analytical records of this journal (check 773w for \"(IDSBB)000010912DSV01\") - check Alma indexes\n",
    "# Check alma indexes: 773w is in \"Other System Number\"\n",
    "# SRU index is \"other_system_number\"\n",
    "\n",
    "\n",
    "# Find one library that has a volume of this journal: 022-2909 (system number: \"(IDSBB)000010912DSV01\")\n",
    "\n",
    "params = {\n",
    "    'version': '1.2',\n",
    "    'operation': 'searchRetrieve',\n",
    "    'query': 'alma.other_system_number=\"(IDSBB)000010912DSV01\"',\n",
    "    'maximumRecords': '50'\n",
    "}\n",
    "\n",
    "url = 'https://swisscovery.ch/view/sru/41SLSP_NETWORK'\n",
    "\n",
    "r = requests.get(url, params=params)\n",
    "xml = etree.fromstring(r.content, parser=parser)\n",
    "\n",
    "records = xml.findall('.//marc:record', namespaces=ns)\n",
    "len(records)"
   ]
  },
  {
   "cell_type": "code",
   "execution_count": 55,
   "id": "13fd883c",
   "metadata": {},
   "outputs": [
    {
     "data": {
      "text/plain": [
       "['991099791859705501',\n",
       " '991155872489705501',\n",
       " '991116048969705501',\n",
       " '991138286839705501',\n",
       " '991066726169705501',\n",
       " '991013868859705501',\n",
       " '991103594679705501',\n",
       " '991036991769705501',\n",
       " '991074173529705501',\n",
       " '991129765279705501',\n",
       " '991091929779705501',\n",
       " '991088399979705501',\n",
       " '991042095849705501',\n",
       " '991045633249705501',\n",
       " '991144551799705501',\n",
       " '991149650509705501',\n",
       " '991110311559705501',\n",
       " '991014299429705501',\n",
       " '991102976559705501',\n",
       " '991072813179705501',\n",
       " '991059834869705501',\n",
       " '991039414649705501',\n",
       " '991149495129705501',\n",
       " '991018050139705501',\n",
       " '991120655919705501',\n",
       " '991143100989705501',\n",
       " '991153027099705501',\n",
       " '991024723679705501',\n",
       " '991142980519705501',\n",
       " '991008807439705501',\n",
       " '991145078639705501',\n",
       " '991008670719705501',\n",
       " '991054025209705501',\n",
       " '991141558449705501',\n",
       " '991133367729705501',\n",
       " '991066729619705501',\n",
       " '991132972979705501',\n",
       " '991116714599705501',\n",
       " '991147289729705501',\n",
       " '991098659589705501',\n",
       " '991011155979705501',\n",
       " '991144357589705501',\n",
       " '991071188339705501',\n",
       " '991144936299705501',\n",
       " '991058581009705501',\n",
       " '991115003669705501',\n",
       " '991011585639705501',\n",
       " '991043270719705501',\n",
       " '991059893539705501',\n",
       " '991095312439705501']"
      ]
     },
     "execution_count": 55,
     "metadata": {},
     "output_type": "execute_result"
    }
   ],
   "source": [
    "analytical_records = []\n",
    "for record in records:\n",
    "    if len(record.xpath('.//marc:datafield[@tag=\"773\"]/marc:subfield[@code=\"w\" and text()=\"(IDSBB)000010912DSV01\"]', namespaces=ns)) > 0:\n",
    "        analytical_records.append(record.findtext('marc:controlfield[@tag=\"001\"]', namespaces=ns))\n",
    "\n",
    "# Without paging, only 50 records can be found at once\n",
    "analytical_records    "
   ]
  },
  {
   "cell_type": "code",
   "execution_count": null,
   "id": "5b66f3ff",
   "metadata": {},
   "outputs": [],
   "source": []
  }
 ],
 "metadata": {
  "kernelspec": {
   "display_name": "Python 3 (ipykernel)",
   "language": "python",
   "name": "python3"
  },
  "language_info": {
   "codemirror_mode": {
    "name": "ipython",
    "version": 3
   },
   "file_extension": ".py",
   "mimetype": "text/x-python",
   "name": "python",
   "nbconvert_exporter": "python",
   "pygments_lexer": "ipython3",
   "version": "3.9.7"
  }
 },
 "nbformat": 4,
 "nbformat_minor": 5
}
